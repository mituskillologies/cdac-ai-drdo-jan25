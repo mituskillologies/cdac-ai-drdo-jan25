{
 "cells": [
  {
   "cell_type": "code",
   "execution_count": 1,
   "id": "a4767174-c2a6-43ad-b4a2-0f11087a7969",
   "metadata": {},
   "outputs": [],
   "source": [
    "import numpy as np\n",
    "import cv2\n",
    "import matplotlib.pyplot as plt"
   ]
  },
  {
   "cell_type": "code",
   "execution_count": 2,
   "id": "a9f73ad5-2db1-4008-b948-54c8b34520cc",
   "metadata": {},
   "outputs": [],
   "source": [
    "# load the video\n",
    "vid = cv2.VideoCapture('images/nature.mp4')"
   ]
  },
  {
   "cell_type": "code",
   "execution_count": 3,
   "id": "1116f222-5c09-4a1a-bf1e-c97e455119cd",
   "metadata": {},
   "outputs": [
    {
     "data": {
      "text/plain": [
       "< cv2.VideoCapture 0x71f171b99830>"
      ]
     },
     "execution_count": 3,
     "metadata": {},
     "output_type": "execute_result"
    }
   ],
   "source": [
    "vid"
   ]
  },
  {
   "cell_type": "code",
   "execution_count": 7,
   "id": "0f2b17ce-3ca7-48ad-9dc0-438e1d9d036e",
   "metadata": {},
   "outputs": [],
   "source": [
    "ret, img = vid.read()"
   ]
  },
  {
   "cell_type": "code",
   "execution_count": 9,
   "id": "2645d7a7-1b0a-40b3-b39a-54ba74f99ce9",
   "metadata": {},
   "outputs": [
    {
     "data": {
      "text/plain": [
       "array([[[ 44,  45,  40],\n",
       "        [ 38,  39,  34],\n",
       "        [ 33,  34,  29],\n",
       "        ...,\n",
       "        [255, 255, 255],\n",
       "        [255, 255, 255],\n",
       "        [255, 255, 255]],\n",
       "\n",
       "       [[ 44,  45,  40],\n",
       "        [ 38,  39,  34],\n",
       "        [ 33,  34,  29],\n",
       "        ...,\n",
       "        [255, 255, 255],\n",
       "        [255, 255, 255],\n",
       "        [255, 255, 255]],\n",
       "\n",
       "       [[ 45,  46,  41],\n",
       "        [ 38,  39,  34],\n",
       "        [ 34,  35,  30],\n",
       "        ...,\n",
       "        [255, 255, 255],\n",
       "        [255, 255, 255],\n",
       "        [255, 255, 255]],\n",
       "\n",
       "       ...,\n",
       "\n",
       "       [[ 32,  31,  25],\n",
       "        [ 26,  25,  19],\n",
       "        [ 26,  25,  19],\n",
       "        ...,\n",
       "        [ 19,  24,  17],\n",
       "        [ 20,  22,  15],\n",
       "        [ 19,  21,  14]],\n",
       "\n",
       "       [[ 32,  31,  25],\n",
       "        [ 26,  25,  19],\n",
       "        [ 26,  25,  19],\n",
       "        ...,\n",
       "        [ 17,  22,  15],\n",
       "        [ 20,  22,  15],\n",
       "        [ 19,  21,  14]],\n",
       "\n",
       "       [[ 32,  31,  25],\n",
       "        [ 26,  25,  19],\n",
       "        [ 26,  25,  19],\n",
       "        ...,\n",
       "        [ 20,  25,  18],\n",
       "        [ 22,  24,  17],\n",
       "        [ 20,  22,  15]]], dtype=uint8)"
      ]
     },
     "execution_count": 9,
     "metadata": {},
     "output_type": "execute_result"
    }
   ],
   "source": [
    "img"
   ]
  },
  {
   "cell_type": "code",
   "execution_count": 10,
   "id": "866b438e-6c66-491d-a40f-0588f217c8dc",
   "metadata": {},
   "outputs": [],
   "source": [
    "cv2.imshow('Frame', img)\n",
    "cv2.waitKey(0)\n",
    "cv2.destroyAllWindows()"
   ]
  },
  {
   "cell_type": "code",
   "execution_count": 17,
   "id": "d2aa3a52-e01e-4f99-bd3c-8b6b1c83f465",
   "metadata": {},
   "outputs": [],
   "source": [
    "height = int(vid.get(cv2.CAP_PROP_FRAME_HEIGHT))\n",
    "width = int(vid.get(cv2.CAP_PROP_FRAME_WIDTH))\n",
    "count = int(vid.get(cv2.CAP_PROP_FRAME_COUNT))\n",
    "fps = int(vid.get(cv2.CAP_PROP_FPS))"
   ]
  },
  {
   "cell_type": "code",
   "execution_count": 18,
   "id": "3e79b6af-2827-4fee-9bd5-d603d139f0bb",
   "metadata": {},
   "outputs": [
    {
     "name": "stdout",
     "output_type": "stream",
     "text": [
      "Width and Height: 1270 720\n",
      "Total Frames: 1409\n",
      "Frame Rate: 26\n"
     ]
    }
   ],
   "source": [
    "print('Width and Height:', width, height)\n",
    "print('Total Frames:', count)\n",
    "print('Frame Rate:', fps)"
   ]
  },
  {
   "cell_type": "code",
   "execution_count": 20,
   "id": "d2a5cf53-6ce7-4cea-8e24-1eb81b7417da",
   "metadata": {},
   "outputs": [],
   "source": [
    "vid = cv2.VideoCapture('images/nature.mp4')\n",
    "while True:\n",
    "    ret, img = vid.read()\n",
    "    if not ret:\n",
    "        break\n",
    "\n",
    "    cv2.imshow('Video', img)\n",
    "    if cv2.waitKey(5) == ord('q'):\n",
    "        break\n",
    "\n",
    "cv2.destroyAllWindows()"
   ]
  },
  {
   "cell_type": "code",
   "execution_count": 21,
   "id": "e3dfdc6f-df96-4a21-95a3-d2ee0f3b2082",
   "metadata": {},
   "outputs": [
    {
     "data": {
      "text/plain": [
       "54.19230769230769"
      ]
     },
     "execution_count": 21,
     "metadata": {},
     "output_type": "execute_result"
    }
   ],
   "source": [
    "count / fps"
   ]
  },
  {
   "cell_type": "code",
   "execution_count": 23,
   "id": "c2660eff-071c-429b-b615-2b1994e87fc9",
   "metadata": {},
   "outputs": [],
   "source": [
    "timestamp = '00:00:41'"
   ]
  },
  {
   "cell_type": "code",
   "execution_count": 24,
   "id": "b5f03075-4949-403b-8834-1ed7c990417a",
   "metadata": {},
   "outputs": [],
   "source": [
    "hrs, mins, secs = [int(i) for i in timestamp.split(':')]"
   ]
  },
  {
   "cell_type": "code",
   "execution_count": 25,
   "id": "4b6aff62-73d6-4ef4-8bbf-7f9c1cda4707",
   "metadata": {},
   "outputs": [
    {
     "data": {
      "text/plain": [
       "(0, 0, 41)"
      ]
     },
     "execution_count": 25,
     "metadata": {},
     "output_type": "execute_result"
    }
   ],
   "source": [
    "hrs, mins, secs"
   ]
  },
  {
   "cell_type": "code",
   "execution_count": 26,
   "id": "8fb8e94f-c08d-43be-b1e7-c790a110157d",
   "metadata": {},
   "outputs": [],
   "source": [
    "trigger_frame = hrs * 3600 * fps + mins * 60 * fps + secs * fps"
   ]
  },
  {
   "cell_type": "code",
   "execution_count": 27,
   "id": "03005bd7-1a81-4b75-9222-46a1539e01c6",
   "metadata": {},
   "outputs": [
    {
     "data": {
      "text/plain": [
       "1066"
      ]
     },
     "execution_count": 27,
     "metadata": {},
     "output_type": "execute_result"
    }
   ],
   "source": [
    "trigger_frame"
   ]
  },
  {
   "cell_type": "code",
   "execution_count": 31,
   "id": "25483fcf-93a1-4959-be67-73a776e7b928",
   "metadata": {},
   "outputs": [
    {
     "data": {
      "text/plain": [
       "True"
      ]
     },
     "execution_count": 31,
     "metadata": {},
     "output_type": "execute_result"
    }
   ],
   "source": [
    "vid.set(1, trigger_frame)"
   ]
  },
  {
   "cell_type": "code",
   "execution_count": 32,
   "id": "b74bd15d-d9b4-46de-a6d1-99317a330f5f",
   "metadata": {},
   "outputs": [],
   "source": [
    "ret, img = vid.read()"
   ]
  },
  {
   "cell_type": "code",
   "execution_count": 33,
   "id": "2ca26285-061a-4ae4-b884-f996ea037f88",
   "metadata": {},
   "outputs": [],
   "source": [
    "cv2.imshow('Frame', img)\n",
    "cv2.waitKey(0)\n",
    "cv2.destroyAllWindows()"
   ]
  },
  {
   "cell_type": "code",
   "execution_count": 34,
   "id": "95a50fdb-a398-44e2-8697-3a06cd63a6a5",
   "metadata": {},
   "outputs": [],
   "source": [
    "camera = cv2.VideoCapture(0)"
   ]
  },
  {
   "cell_type": "code",
   "execution_count": 35,
   "id": "e7897e30-3aaa-4d25-9c71-f86973d270fa",
   "metadata": {},
   "outputs": [
    {
     "data": {
      "text/plain": [
       "True"
      ]
     },
     "execution_count": 35,
     "metadata": {},
     "output_type": "execute_result"
    }
   ],
   "source": [
    "camera.isOpened()"
   ]
  },
  {
   "cell_type": "code",
   "execution_count": 37,
   "id": "59f12a99-12c5-4cde-bbd2-8b1a4f0c14e3",
   "metadata": {},
   "outputs": [],
   "source": [
    "ret, img = camera.read()"
   ]
  },
  {
   "cell_type": "code",
   "execution_count": 38,
   "id": "399c4f56-dbb4-4850-bf01-a821e70a7c6e",
   "metadata": {},
   "outputs": [],
   "source": [
    "camera.release()"
   ]
  },
  {
   "cell_type": "code",
   "execution_count": 39,
   "id": "aed1f2e4-3ce3-494f-9a2d-5c9f0a84a9d9",
   "metadata": {},
   "outputs": [],
   "source": [
    "cv2.imshow('Frame', img)\n",
    "cv2.waitKey(0)\n",
    "cv2.destroyAllWindows()"
   ]
  },
  {
   "cell_type": "code",
   "execution_count": 40,
   "id": "6b1f6d0d-11d1-474b-a45a-05acf3ae4db1",
   "metadata": {},
   "outputs": [],
   "source": [
    "vid = cv2.VideoCapture(0)\n",
    "while True:\n",
    "    ret, img = vid.read()\n",
    "    if not ret:\n",
    "        break\n",
    "\n",
    "    cv2.imshow('Video', img)\n",
    "    if cv2.waitKey(5) == ord('q'):\n",
    "        break\n",
    "\n",
    "cv2.destroyAllWindows()"
   ]
  },
  {
   "cell_type": "code",
   "execution_count": 41,
   "id": "9fdfff2c-cf9e-49f2-9576-ac10e6f7287c",
   "metadata": {},
   "outputs": [],
   "source": [
    "vid.release()"
   ]
  },
  {
   "cell_type": "code",
   "execution_count": null,
   "id": "30278265-ad16-4326-8df6-17e30bab9327",
   "metadata": {},
   "outputs": [],
   "source": []
  }
 ],
 "metadata": {
  "kernelspec": {
   "display_name": "Python 3 (ipykernel)",
   "language": "python",
   "name": "python3"
  },
  "language_info": {
   "codemirror_mode": {
    "name": "ipython",
    "version": 3
   },
   "file_extension": ".py",
   "mimetype": "text/x-python",
   "name": "python",
   "nbconvert_exporter": "python",
   "pygments_lexer": "ipython3",
   "version": "3.10.12"
  }
 },
 "nbformat": 4,
 "nbformat_minor": 5
}
