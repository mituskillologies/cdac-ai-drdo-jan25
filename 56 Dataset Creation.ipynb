{
 "cells": [
  {
   "cell_type": "markdown",
   "id": "42e14399-29b8-468c-ae17-c2034ec9ea0d",
   "metadata": {},
   "source": [
    "##### Classification Dataset"
   ]
  },
  {
   "cell_type": "code",
   "execution_count": 3,
   "id": "f3d20d09-198b-42ba-8090-cf007324ca57",
   "metadata": {},
   "outputs": [],
   "source": [
    "from sklearn.datasets import make_classification"
   ]
  },
  {
   "cell_type": "code",
   "execution_count": 4,
   "id": "21a85b71-d8af-4441-a6b5-7c0405b5e178",
   "metadata": {},
   "outputs": [
    {
     "name": "stdout",
     "output_type": "stream",
     "text": [
      "Help on function make_classification in module sklearn.datasets._samples_generator:\n",
      "\n",
      "make_classification(n_samples=100, n_features=20, *, n_informative=2, n_redundant=2, n_repeated=0, n_classes=2, n_clusters_per_class=2, weights=None, flip_y=0.01, class_sep=1.0, hypercube=True, shift=0.0, scale=1.0, shuffle=True, random_state=None)\n",
      "    Generate a random n-class classification problem.\n",
      "    \n",
      "    This initially creates clusters of points normally distributed (std=1)\n",
      "    about vertices of an ``n_informative``-dimensional hypercube with sides of\n",
      "    length ``2*class_sep`` and assigns an equal number of clusters to each\n",
      "    class. It introduces interdependence between these features and adds\n",
      "    various types of further noise to the data.\n",
      "    \n",
      "    Without shuffling, ``X`` horizontally stacks features in the following\n",
      "    order: the primary ``n_informative`` features, followed by ``n_redundant``\n",
      "    linear combinations of the informative features, followed by ``n_repeated``\n",
      "    duplicates, drawn randomly with replacement from the informative and\n",
      "    redundant features. The remaining features are filled with random noise.\n",
      "    Thus, without shuffling, all useful features are contained in the columns\n",
      "    ``X[:, :n_informative + n_redundant + n_repeated]``.\n",
      "    \n",
      "    Read more in the :ref:`User Guide <sample_generators>`.\n",
      "    \n",
      "    Parameters\n",
      "    ----------\n",
      "    n_samples : int, default=100\n",
      "        The number of samples.\n",
      "    \n",
      "    n_features : int, default=20\n",
      "        The total number of features. These comprise ``n_informative``\n",
      "        informative features, ``n_redundant`` redundant features,\n",
      "        ``n_repeated`` duplicated features and\n",
      "        ``n_features-n_informative-n_redundant-n_repeated`` useless features\n",
      "        drawn at random.\n",
      "    \n",
      "    n_informative : int, default=2\n",
      "        The number of informative features. Each class is composed of a number\n",
      "        of gaussian clusters each located around the vertices of a hypercube\n",
      "        in a subspace of dimension ``n_informative``. For each cluster,\n",
      "        informative features are drawn independently from  N(0, 1) and then\n",
      "        randomly linearly combined within each cluster in order to add\n",
      "        covariance. The clusters are then placed on the vertices of the\n",
      "        hypercube.\n",
      "    \n",
      "    n_redundant : int, default=2\n",
      "        The number of redundant features. These features are generated as\n",
      "        random linear combinations of the informative features.\n",
      "    \n",
      "    n_repeated : int, default=0\n",
      "        The number of duplicated features, drawn randomly from the informative\n",
      "        and the redundant features.\n",
      "    \n",
      "    n_classes : int, default=2\n",
      "        The number of classes (or labels) of the classification problem.\n",
      "    \n",
      "    n_clusters_per_class : int, default=2\n",
      "        The number of clusters per class.\n",
      "    \n",
      "    weights : array-like of shape (n_classes,) or (n_classes - 1,),              default=None\n",
      "        The proportions of samples assigned to each class. If None, then\n",
      "        classes are balanced. Note that if ``len(weights) == n_classes - 1``,\n",
      "        then the last class weight is automatically inferred.\n",
      "        More than ``n_samples`` samples may be returned if the sum of\n",
      "        ``weights`` exceeds 1. Note that the actual class proportions will\n",
      "        not exactly match ``weights`` when ``flip_y`` isn't 0.\n",
      "    \n",
      "    flip_y : float, default=0.01\n",
      "        The fraction of samples whose class is assigned randomly. Larger\n",
      "        values introduce noise in the labels and make the classification\n",
      "        task harder. Note that the default setting flip_y > 0 might lead\n",
      "        to less than ``n_classes`` in y in some cases.\n",
      "    \n",
      "    class_sep : float, default=1.0\n",
      "        The factor multiplying the hypercube size.  Larger values spread\n",
      "        out the clusters/classes and make the classification task easier.\n",
      "    \n",
      "    hypercube : bool, default=True\n",
      "        If True, the clusters are put on the vertices of a hypercube. If\n",
      "        False, the clusters are put on the vertices of a random polytope.\n",
      "    \n",
      "    shift : float, ndarray of shape (n_features,) or None, default=0.0\n",
      "        Shift features by the specified value. If None, then features\n",
      "        are shifted by a random value drawn in [-class_sep, class_sep].\n",
      "    \n",
      "    scale : float, ndarray of shape (n_features,) or None, default=1.0\n",
      "        Multiply features by the specified value. If None, then features\n",
      "        are scaled by a random value drawn in [1, 100]. Note that scaling\n",
      "        happens after shifting.\n",
      "    \n",
      "    shuffle : bool, default=True\n",
      "        Shuffle the samples and the features.\n",
      "    \n",
      "    random_state : int, RandomState instance or None, default=None\n",
      "        Determines random number generation for dataset creation. Pass an int\n",
      "        for reproducible output across multiple function calls.\n",
      "        See :term:`Glossary <random_state>`.\n",
      "    \n",
      "    Returns\n",
      "    -------\n",
      "    X : ndarray of shape (n_samples, n_features)\n",
      "        The generated samples.\n",
      "    \n",
      "    y : ndarray of shape (n_samples,)\n",
      "        The integer labels for class membership of each sample.\n",
      "    \n",
      "    See Also\n",
      "    --------\n",
      "    make_blobs : Simplified variant.\n",
      "    make_multilabel_classification : Unrelated generator for multilabel tasks.\n",
      "    \n",
      "    Notes\n",
      "    -----\n",
      "    The algorithm is adapted from Guyon [1] and was designed to generate\n",
      "    the \"Madelon\" dataset.\n",
      "    \n",
      "    References\n",
      "    ----------\n",
      "    .. [1] I. Guyon, \"Design of experiments for the NIPS 2003 variable\n",
      "           selection benchmark\", 2003.\n",
      "\n"
     ]
    }
   ],
   "source": [
    "help(make_classification)"
   ]
  },
  {
   "cell_type": "code",
   "execution_count": 26,
   "id": "59d4ca4c-7772-4b17-926e-697c85f48f50",
   "metadata": {},
   "outputs": [],
   "source": [
    "data = make_classification(n_samples=500, n_features=4, n_classes=2)"
   ]
  },
  {
   "cell_type": "code",
   "execution_count": 27,
   "id": "12f8ae69-75a0-4082-a109-feb490e8b3b1",
   "metadata": {},
   "outputs": [
    {
     "data": {
      "text/plain": [
       "(500, 4)"
      ]
     },
     "execution_count": 27,
     "metadata": {},
     "output_type": "execute_result"
    }
   ],
   "source": [
    "x.shape"
   ]
  },
  {
   "cell_type": "code",
   "execution_count": 28,
   "id": "ec72bb87-a62d-4121-a405-fdca1f2281a2",
   "metadata": {},
   "outputs": [],
   "source": [
    "x = data[0]"
   ]
  },
  {
   "cell_type": "code",
   "execution_count": 29,
   "id": "51d38fb2-52f9-49c8-b27b-f22ac2cb3726",
   "metadata": {},
   "outputs": [],
   "source": [
    "y = data[1]"
   ]
  },
  {
   "cell_type": "code",
   "execution_count": 30,
   "id": "e68f2d21-f9ce-4548-896c-2da4178286d1",
   "metadata": {},
   "outputs": [],
   "source": [
    "import matplotlib.pyplot as plt"
   ]
  },
  {
   "cell_type": "code",
   "execution_count": 31,
   "id": "3a112b29-4ba9-4076-9bea-569215edbfc7",
   "metadata": {},
   "outputs": [
    {
     "data": {
      "image/png": "[encoded data removed]",
      "text/plain": [
       "<Figure size 640x480 with 1 Axes>"
      ]
     },
     "metadata": {},
     "output_type": "display_data"
    }
   ],
   "source": [
    "plt.scatter(x[:,2], x[:,3], c= y );"
   ]
  },
  {
   "cell_type": "code",
   "execution_count": 32,
   "id": "840df300-2cbd-41f0-b1f8-505fed7ef3b7",
   "metadata": {},
   "outputs": [],
   "source": [
    "from sklearn.model_selection import train_test_split\n",
    "x_train, x_test, y_train, y_test = train_test_split(x, y, random_state=0)"
   ]
  },
  {
   "cell_type": "code",
   "execution_count": 33,
   "id": "68d11a91-9aa9-4880-8668-1f9e4e25eb0e",
   "metadata": {},
   "outputs": [
    {
     "data": {
      "text/plain": [
       "0.968"
      ]
     },
     "execution_count": 33,
     "metadata": {},
     "output_type": "execute_result"
    }
   ],
   "source": [
    "from sklearn.tree import DecisionTreeClassifier\n",
    "dt = DecisionTreeClassifier(random_state=0)\n",
    "dt.fit(x_train, y_train)\n",
    "\n",
    "from sklearn.metrics import accuracy_score\n",
    "y_pred = dt.predict(x_test)\n",
    "accuracy_score(y_test, y_pred)"
   ]
  },
  {
   "cell_type": "code",
   "execution_count": 34,
   "id": "89b35108-ab35-4a59-9324-3f5f0744a1b5",
   "metadata": {},
   "outputs": [],
   "source": [
    "import pandas as pd"
   ]
  },
  {
   "cell_type": "code",
   "execution_count": 35,
   "id": "c2c06ef2-2a29-4ce6-acde-b9a7967a8fa6",
   "metadata": {},
   "outputs": [],
   "source": [
    "df = pd.DataFrame(data = x, columns=['A','B','C','D'])"
   ]
  },
  {
   "cell_type": "code",
   "execution_count": 36,
   "id": "1cad1720-6c97-4b1b-b883-bcc24f8e2f24",
   "metadata": {},
   "outputs": [],
   "source": [
    "df['class'] = y"
   ]
  },
  {
   "cell_type": "code",
   "execution_count": 37,
   "id": "5a4b2bed-93a5-4fdd-85ba-ca142791dc20",
   "metadata": {},
   "outputs": [
    {
     "data": {
      "text/html": [
       "<div>\n",
       "<style scoped>\n",
       "    .dataframe tbody tr th:only-of-type {\n",
       "        vertical-align: middle;\n",
       "    }\n",
       "\n",
       "    .dataframe tbody tr th {\n",
       "        vertical-align: top;\n",
       "    }\n",
       "\n",
       "    .dataframe thead th {\n",
       "        text-align: right;\n",
       "    }\n",
       "</style>\n",
       "<table border=\"1\" class=\"dataframe\">\n",
       "  <thead>\n",
       "    <tr style=\"text-align: right;\">\n",
       "      <th></th>\n",
       "      <th>A</th>\n",
       "      <th>B</th>\n",
       "      <th>C</th>\n",
       "      <th>D</th>\n",
       "      <th>class</th>\n",
       "    </tr>\n",
       "  </thead>\n",
       "  <tbody>\n",
       "    <tr>\n",
       "      <th>0</th>\n",
       "      <td>0.822152</td>\n",
       "      <td>-0.478383</td>\n",
       "      <td>-0.934547</td>\n",
       "      <td>-1.042379</td>\n",
       "      <td>1</td>\n",
       "    </tr>\n",
       "    <tr>\n",
       "      <th>1</th>\n",
       "      <td>0.164162</td>\n",
       "      <td>-0.591731</td>\n",
       "      <td>-0.356613</td>\n",
       "      <td>-0.924336</td>\n",
       "      <td>0</td>\n",
       "    </tr>\n",
       "    <tr>\n",
       "      <th>2</th>\n",
       "      <td>1.197093</td>\n",
       "      <td>-0.558244</td>\n",
       "      <td>-1.313360</td>\n",
       "      <td>-1.318134</td>\n",
       "      <td>1</td>\n",
       "    </tr>\n",
       "    <tr>\n",
       "      <th>3</th>\n",
       "      <td>1.222497</td>\n",
       "      <td>1.713369</td>\n",
       "      <td>-0.558888</td>\n",
       "      <td>1.949700</td>\n",
       "      <td>1</td>\n",
       "    </tr>\n",
       "    <tr>\n",
       "      <th>4</th>\n",
       "      <td>-0.924808</td>\n",
       "      <td>-0.036136</td>\n",
       "      <td>0.854490</td>\n",
       "      <td>0.343694</td>\n",
       "      <td>0</td>\n",
       "    </tr>\n",
       "    <tr>\n",
       "      <th>...</th>\n",
       "      <td>...</td>\n",
       "      <td>...</td>\n",
       "      <td>...</td>\n",
       "      <td>...</td>\n",
       "      <td>...</td>\n",
       "    </tr>\n",
       "    <tr>\n",
       "      <th>495</th>\n",
       "      <td>0.135126</td>\n",
       "      <td>0.697461</td>\n",
       "      <td>0.112299</td>\n",
       "      <td>0.948834</td>\n",
       "      <td>0</td>\n",
       "    </tr>\n",
       "    <tr>\n",
       "      <th>496</th>\n",
       "      <td>1.007290</td>\n",
       "      <td>-0.712800</td>\n",
       "      <td>-1.188400</td>\n",
       "      <td>-1.459968</td>\n",
       "      <td>1</td>\n",
       "    </tr>\n",
       "    <tr>\n",
       "      <th>497</th>\n",
       "      <td>-1.769266</td>\n",
       "      <td>-1.235217</td>\n",
       "      <td>1.235224</td>\n",
       "      <td>-1.025529</td>\n",
       "      <td>0</td>\n",
       "    </tr>\n",
       "    <tr>\n",
       "      <th>498</th>\n",
       "      <td>1.470941</td>\n",
       "      <td>1.069817</td>\n",
       "      <td>-1.012257</td>\n",
       "      <td>0.914495</td>\n",
       "      <td>1</td>\n",
       "    </tr>\n",
       "    <tr>\n",
       "      <th>499</th>\n",
       "      <td>0.849188</td>\n",
       "      <td>0.803670</td>\n",
       "      <td>-0.520640</td>\n",
       "      <td>0.796486</td>\n",
       "      <td>1</td>\n",
       "    </tr>\n",
       "  </tbody>\n",
       "</table>\n",
       "<p>500 rows × 5 columns</p>\n",
       "</div>"
      ],
      "text/plain": [
       "            A         B         C         D  class\n",
       "0    0.822152 -0.478383 -0.934547 -1.042379      1\n",
       "1    0.164162 -0.591731 -0.356613 -0.924336      0\n",
       "2    1.197093 -0.558244 -1.313360 -1.318134      1\n",
       "3    1.222497  1.713369 -0.558888  1.949700      1\n",
       "4   -0.924808 -0.036136  0.854490  0.343694      0\n",
       "..        ...       ...       ...       ...    ...\n",
       "495  0.135126  0.697461  0.112299  0.948834      0\n",
       "496  1.007290 -0.712800 -1.188400 -1.459968      1\n",
       "497 -1.769266 -1.235217  1.235224 -1.025529      0\n",
       "498  1.470941  1.069817 -1.012257  0.914495      1\n",
       "499  0.849188  0.803670 -0.520640  0.796486      1\n",
       "\n",
       "[500 rows x 5 columns]"
      ]
     },
     "execution_count": 37,
     "metadata": {},
     "output_type": "execute_result"
    }
   ],
   "source": [
    "df"
   ]
  },
  {
   "cell_type": "code",
   "execution_count": 38,
   "id": "0d813aee-fae7-4ef1-b95a-d8ef14e75a3a",
   "metadata": {},
   "outputs": [],
   "source": [
    "df.to_csv('dummydata.csv', index=False)"
   ]
  },
  {
   "cell_type": "code",
   "execution_count": 39,
   "id": "ad63a03e-6de9-4a9d-bdf2-c1981f09da10",
   "metadata": {},
   "outputs": [],
   "source": [
    "from sklearn.datasets import make_regression"
   ]
  },
  {
   "cell_type": "code",
   "execution_count": 40,
   "id": "3e2f238f-3cf0-4e85-8ba9-5543ef045079",
   "metadata": {},
   "outputs": [
    {
     "name": "stdout",
     "output_type": "stream",
     "text": [
      "Help on function make_regression in module sklearn.datasets._samples_generator:\n",
      "\n",
      "make_regression(n_samples=100, n_features=100, *, n_informative=10, n_targets=1, bias=0.0, effective_rank=None, tail_strength=0.5, noise=0.0, shuffle=True, coef=False, random_state=None)\n",
      "    Generate a random regression problem.\n",
      "    \n",
      "    The input set can either be well conditioned (by default) or have a low\n",
      "    rank-fat tail singular profile. See :func:`make_low_rank_matrix` for\n",
      "    more details.\n",
      "    \n",
      "    The output is generated by applying a (potentially biased) random linear\n",
      "    regression model with `n_informative` nonzero regressors to the previously\n",
      "    generated input and some gaussian centered noise with some adjustable\n",
      "    scale.\n",
      "    \n",
      "    Read more in the :ref:`User Guide <sample_generators>`.\n",
      "    \n",
      "    Parameters\n",
      "    ----------\n",
      "    n_samples : int, default=100\n",
      "        The number of samples.\n",
      "    \n",
      "    n_features : int, default=100\n",
      "        The number of features.\n",
      "    \n",
      "    n_informative : int, default=10\n",
      "        The number of informative features, i.e., the number of features used\n",
      "        to build the linear model used to generate the output.\n",
      "    \n",
      "    n_targets : int, default=1\n",
      "        The number of regression targets, i.e., the dimension of the y output\n",
      "        vector associated with a sample. By default, the output is a scalar.\n",
      "    \n",
      "    bias : float, default=0.0\n",
      "        The bias term in the underlying linear model.\n",
      "    \n",
      "    effective_rank : int, default=None\n",
      "        If not None:\n",
      "            The approximate number of singular vectors required to explain most\n",
      "            of the input data by linear combinations. Using this kind of\n",
      "            singular spectrum in the input allows the generator to reproduce\n",
      "            the correlations often observed in practice.\n",
      "        If None:\n",
      "            The input set is well conditioned, centered and gaussian with\n",
      "            unit variance.\n",
      "    \n",
      "    tail_strength : float, default=0.5\n",
      "        The relative importance of the fat noisy tail of the singular values\n",
      "        profile if `effective_rank` is not None. When a float, it should be\n",
      "        between 0 and 1.\n",
      "    \n",
      "    noise : float, default=0.0\n",
      "        The standard deviation of the gaussian noise applied to the output.\n",
      "    \n",
      "    shuffle : bool, default=True\n",
      "        Shuffle the samples and the features.\n",
      "    \n",
      "    coef : bool, default=False\n",
      "        If True, the coefficients of the underlying linear model are returned.\n",
      "    \n",
      "    random_state : int, RandomState instance or None, default=None\n",
      "        Determines random number generation for dataset creation. Pass an int\n",
      "        for reproducible output across multiple function calls.\n",
      "        See :term:`Glossary <random_state>`.\n",
      "    \n",
      "    Returns\n",
      "    -------\n",
      "    X : ndarray of shape (n_samples, n_features)\n",
      "        The input samples.\n",
      "    \n",
      "    y : ndarray of shape (n_samples,) or (n_samples, n_targets)\n",
      "        The output values.\n",
      "    \n",
      "    coef : ndarray of shape (n_features,) or (n_features, n_targets)\n",
      "        The coefficient of the underlying linear model. It is returned only if\n",
      "        coef is True.\n",
      "    \n",
      "    Examples\n",
      "    --------\n",
      "    >>> from sklearn.datasets import make_regression\n",
      "    >>> X, y = make_regression(n_samples=5, n_features=2, noise=1, random_state=42)\n",
      "    >>> X\n",
      "    array([[ 0.4967..., -0.1382... ],\n",
      "        [ 0.6476...,  1.523...],\n",
      "        [-0.2341..., -0.2341...],\n",
      "        [-0.4694...,  0.5425...],\n",
      "        [ 1.579...,  0.7674...]])\n",
      "    >>> y\n",
      "    array([  6.737...,  37.79..., -10.27...,   0.4017...,   42.22...])\n",
      "\n"
     ]
    }
   ],
   "source": [
    "help(make_regression)"
   ]
  },
  {
   "cell_type": "code",
   "execution_count": 42,
   "id": "82954833-2f24-4f3f-a887-450dcddfbc88",
   "metadata": {},
   "outputs": [],
   "source": [
    "x, y = make_regression(n_samples=100, n_features=2, random_state=0)"
   ]
  },
  {
   "cell_type": "code",
   "execution_count": 45,
   "id": "6f64dfc7-074a-49de-9fbd-04d84737a5e4",
   "metadata": {},
   "outputs": [],
   "source": [
    "import numpy as np"
   ]
  },
  {
   "cell_type": "code",
   "execution_count": 48,
   "id": "1ef131c9-0bb2-41b1-984f-d4ed932bf136",
   "metadata": {},
   "outputs": [
    {
     "data": {
      "text/plain": [
       "array([[1.        , 0.95676698],\n",
       "       [0.95676698, 1.        ]])"
      ]
     },
     "execution_count": 48,
     "metadata": {},
     "output_type": "execute_result"
    }
   ],
   "source": [
    "np.corrcoef(x[:,1], y)"
   ]
  },
  {
   "cell_type": "code",
   "execution_count": 49,
   "id": "cdcdd001-f530-4eea-92fa-23dea712110e",
   "metadata": {},
   "outputs": [
    {
     "data": {
      "text/plain": [
       "<matplotlib.collections.PathCollection at 0x73b233e3d360>"
      ]
     },
     "execution_count": 49,
     "metadata": {},
     "output_type": "execute_result"
    },
    {
     "data": {
      "image/png": "[encoded data removed]",
      "text/plain": [
       "<Figure size 640x480 with 1 Axes>"
      ]
     },
     "metadata": {},
     "output_type": "display_data"
    }
   ],
   "source": [
    "plt.scatter(x[:,1], y)"
   ]
  },
  {
   "cell_type": "code",
   "execution_count": 50,
   "id": "90f13694-23e7-4f19-a898-00d2bfd01ffd",
   "metadata": {},
   "outputs": [],
   "source": [
    "import seaborn as sns"
   ]
  },
  {
   "cell_type": "code",
   "execution_count": 52,
   "id": "1e137edc-b65d-44fe-9c87-b9ba98c5dc3b",
   "metadata": {},
   "outputs": [
    {
     "data": {
      "text/plain": [
       "<Axes: >"
      ]
     },
     "execution_count": 52,
     "metadata": {},
     "output_type": "execute_result"
    },
    {
     "data": {
      "image/png": "[encoded data removed]",
      "text/plain": [
       "<Figure size 640x480 with 1 Axes>"
      ]
     },
     "metadata": {},
     "output_type": "display_data"
    }
   ],
   "source": [
    "sns.regplot(x=x[:,1], y = y)"
   ]
  },
  {
   "cell_type": "code",
   "execution_count": 53,
   "id": "76ebe2d5-971f-42d1-a3e5-504ac47f2b63",
   "metadata": {},
   "outputs": [],
   "source": [
    "from scipy.stats import linregress"
   ]
  },
  {
   "cell_type": "code",
   "execution_count": 54,
   "id": "23a14f39-2557-4243-b24a-9f9cd112b7f7",
   "metadata": {},
   "outputs": [
    {
     "data": {
      "text/plain": [
       "LinregressResult(slope=95.49654703985266, intercept=4.170575884842424, rvalue=0.9567669790810879, pvalue=2.3141554219761748e-54, stderr=2.932552526357488, intercept_stderr=2.9969465258783203)"
      ]
     },
     "execution_count": 54,
     "metadata": {},
     "output_type": "execute_result"
    }
   ],
   "source": [
    "linregress(x[:,1], y)"
   ]
  },
  {
   "cell_type": "code",
   "execution_count": null,
   "id": "fd42e4ee-e435-4d71-a380-d4395aad5140",
   "metadata": {},
   "outputs": [],
   "source": []
  }
 ],
 "metadata": {
  "kernelspec": {
   "display_name": "Python 3 (ipykernel)",
   "language": "python",
   "name": "python3"
  },
  "language_info": {
   "codemirror_mode": {
    "name": "ipython",
    "version": 3
   },
   "file_extension": ".py",
   "mimetype": "text/x-python",
   "name": "python",
   "nbconvert_exporter": "python",
   "pygments_lexer": "ipython3",
   "version": "3.10.12"
  }
 },
 "nbformat": 4,
 "nbformat_minor": 5
}
