{
 "cells": [
  {
   "cell_type": "code",
   "execution_count": 1,
   "id": "a55dfcaf-fdf5-4b83-91d0-58dadaa5d66e",
   "metadata": {},
   "outputs": [],
   "source": [
    "import cv2\n",
    "import numpy as np"
   ]
  },
  {
   "cell_type": "code",
   "execution_count": 2,
   "id": "0e618247-4c44-4772-a322-4754c6f6bb29",
   "metadata": {},
   "outputs": [],
   "source": [
    "img = cv2.imread('images/sachin.jpg')"
   ]
  },
  {
   "cell_type": "code",
   "execution_count": 6,
   "id": "456dec7e-8875-4028-99d1-d677c6115f68",
   "metadata": {},
   "outputs": [],
   "source": [
    "tx = 50  # translation-x\n",
    "ty = 100 # translation-y\n",
    "angle = 45    # rotation\n",
    "scale = 0.8   # scaling factor\n",
    "shear_x = 0.25  # tilt on x axis\n",
    "shear_y = 0.3   # tilt on y axis\n",
    "\n",
    "# define the affine transformation matrix\n",
    "M = np.float32([[scale*np.cos(np.radians(angle)),   shear_x,   tx],\n",
    "                [shear_y,   scale*np.sin(np.radians(angle)),   ty]])"
   ]
  },
  {
   "cell_type": "code",
   "execution_count": 7,
   "id": "899cbbdf-f7da-4f87-b021-91faa5dbc23e",
   "metadata": {},
   "outputs": [],
   "source": [
    "img_affine = cv2.warpAffine(img,M, (img.shape[1], img.shape[0]))"
   ]
  },
  {
   "cell_type": "code",
   "execution_count": 5,
   "id": "a618f3ac-3e51-4259-8bcb-bb723c3cfcb0",
   "metadata": {},
   "outputs": [],
   "source": [
    "cv2.imshow('final image', img_affine)\n",
    "cv2.waitKey(0)\n",
    "cv2.destroyAllWindows()"
   ]
  },
  {
   "cell_type": "code",
   "execution_count": 9,
   "id": "5ab34eb8-9f4f-498e-b339-22069a9f9386",
   "metadata": {},
   "outputs": [],
   "source": [
    "M1 = np.array([[4,5,6],[1,2,3]])\n",
    "M2 = np.array([[2,8,9],[0,5,7]])"
   ]
  },
  {
   "cell_type": "code",
   "execution_count": 10,
   "id": "458457ae-6a8a-40ae-8a3b-f094d80eb718",
   "metadata": {},
   "outputs": [
    {
     "data": {
      "text/plain": [
       "array([[4, 5, 6],\n",
       "       [1, 2, 3]])"
      ]
     },
     "execution_count": 10,
     "metadata": {},
     "output_type": "execute_result"
    }
   ],
   "source": [
    "M1"
   ]
  },
  {
   "cell_type": "code",
   "execution_count": 11,
   "id": "5dae7e4c-23b4-424a-b59f-d6fb333b22c2",
   "metadata": {},
   "outputs": [
    {
     "data": {
      "text/plain": [
       "array([[2, 8, 9],\n",
       "       [0, 5, 7]])"
      ]
     },
     "execution_count": 11,
     "metadata": {},
     "output_type": "execute_result"
    }
   ],
   "source": [
    "M2"
   ]
  },
  {
   "cell_type": "code",
   "execution_count": 12,
   "id": "a84ebe65-8b0f-4c3e-90e7-e0fb653c61b5",
   "metadata": {},
   "outputs": [
    {
     "data": {
      "text/plain": [
       "array([[4, 5, 6, 2, 8, 9],\n",
       "       [1, 2, 3, 0, 5, 7]])"
      ]
     },
     "execution_count": 12,
     "metadata": {},
     "output_type": "execute_result"
    }
   ],
   "source": [
    "np.hstack([M1, M2])"
   ]
  },
  {
   "cell_type": "code",
   "execution_count": 13,
   "id": "6017c846-70ba-42c4-8055-68955d63df21",
   "metadata": {},
   "outputs": [
    {
     "data": {
      "text/plain": [
       "array([[2, 8, 9],\n",
       "       [0, 5, 7],\n",
       "       [4, 5, 6],\n",
       "       [1, 2, 3]])"
      ]
     },
     "execution_count": 13,
     "metadata": {},
     "output_type": "execute_result"
    }
   ],
   "source": [
    "np.vstack([M2, M1])"
   ]
  },
  {
   "cell_type": "code",
   "execution_count": 14,
   "id": "290fd284-4c8b-44a8-9f3f-f4e2f01dd73b",
   "metadata": {},
   "outputs": [],
   "source": [
    "# Original Image\n",
    "img1 = cv2.resize(img, None, fx=0.5, fy=0.5)\n",
    "\n",
    "# Affine Image\n",
    "img2 = cv2.resize(img_affine, None, fx=0.5, fy=0.5)"
   ]
  },
  {
   "cell_type": "code",
   "execution_count": 15,
   "id": "e6192773-9f81-445f-8903-b627f0e02338",
   "metadata": {},
   "outputs": [],
   "source": [
    "final_image = np.hstack([img1, img2])"
   ]
  },
  {
   "cell_type": "code",
   "execution_count": 17,
   "id": "1334f5d6-794d-4785-8eaa-4f3da6ce245e",
   "metadata": {},
   "outputs": [],
   "source": [
    "cv2.imshow('final image', final_image)\n",
    "cv2.waitKey(0)\n",
    "cv2.destroyAllWindows()"
   ]
  },
  {
   "cell_type": "code",
   "execution_count": 18,
   "id": "456de473-dc63-4fe8-996d-d64725eaa346",
   "metadata": {},
   "outputs": [
    {
     "data": {
      "text/plain": [
       "array([[ 8, 40, 54],\n",
       "       [ 0, 10, 21]])"
      ]
     },
     "execution_count": 18,
     "metadata": {},
     "output_type": "execute_result"
    }
   ],
   "source": [
    "M1 * M2"
   ]
  },
  {
   "cell_type": "code",
   "execution_count": 20,
   "id": "ad3811a1-27d5-46e4-9bd1-4a0903c8efd5",
   "metadata": {},
   "outputs": [
    {
     "data": {
      "text/plain": [
       "array([[102,  67],\n",
       "       [ 45,  31]])"
      ]
     },
     "execution_count": 20,
     "metadata": {},
     "output_type": "execute_result"
    }
   ],
   "source": [
    "M1 @ M2.T"
   ]
  },
  {
   "cell_type": "code",
   "execution_count": null,
   "id": "ffd0a140-83fc-473f-8517-78f03c384419",
   "metadata": {},
   "outputs": [],
   "source": []
  }
 ],
 "metadata": {
  "kernelspec": {
   "display_name": "Python 3 (ipykernel)",
   "language": "python",
   "name": "python3"
  },
  "language_info": {
   "codemirror_mode": {
    "name": "ipython",
    "version": 3
   },
   "file_extension": ".py",
   "mimetype": "text/x-python",
   "name": "python",
   "nbconvert_exporter": "python",
   "pygments_lexer": "ipython3",
   "version": "3.10.12"
  }
 },
 "nbformat": 4,
 "nbformat_minor": 5
}
