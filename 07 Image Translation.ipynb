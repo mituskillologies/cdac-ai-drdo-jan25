{
 "cells": [
  {
   "cell_type": "code",
   "execution_count": 1,
   "id": "0c254dff-729d-4d69-84bd-16f5f5aae9e4",
   "metadata": {},
   "outputs": [],
   "source": [
    "import numpy as np\n",
    "import cv2\n",
    "import matplotlib.pyplot as plt"
   ]
  },
  {
   "cell_type": "code",
   "execution_count": 2,
   "id": "ec0c17ab-f370-416a-9f56-cc91cc6a5271",
   "metadata": {},
   "outputs": [],
   "source": [
    "img = cv2.imread('images/sachin.jpg')"
   ]
  },
  {
   "cell_type": "code",
   "execution_count": 3,
   "id": "bf95a917-9370-4d0d-9305-b50dc235eac5",
   "metadata": {},
   "outputs": [],
   "source": [
    "height, width, _ = img.shape"
   ]
  },
  {
   "cell_type": "code",
   "execution_count": 4,
   "id": "7eadec99-efe3-4c16-be14-5ea047528f1c",
   "metadata": {},
   "outputs": [],
   "source": [
    "# define translation matrix\n",
    "T = np.float32([[1,0, width//4],[0,1,height//4]])"
   ]
  },
  {
   "cell_type": "code",
   "execution_count": 6,
   "id": "5618f1e2-de9b-4aa6-8bc4-7fdf400b1b47",
   "metadata": {},
   "outputs": [],
   "source": [
    "new_img = cv2.warpAffine(img, T, (width, height))"
   ]
  },
  {
   "cell_type": "code",
   "execution_count": 7,
   "id": "2791cb99-8386-490a-94ba-f2d4413b7192",
   "metadata": {},
   "outputs": [
    {
     "data": {
      "text/plain": [
       "array([[  1.,   0., 212.],\n",
       "       [  0.,   1., 268.]], dtype=float32)"
      ]
     },
     "execution_count": 7,
     "metadata": {},
     "output_type": "execute_result"
    }
   ],
   "source": [
    "T"
   ]
  },
  {
   "cell_type": "code",
   "execution_count": 9,
   "id": "b4d8b3cf-8f45-455e-a2a7-d18cb4987ec1",
   "metadata": {},
   "outputs": [],
   "source": [
    "cv2.imshow('Image', new_img)\n",
    "cv2.waitKey(0)\n",
    "cv2.destroyAllWindows()"
   ]
  },
  {
   "cell_type": "code",
   "execution_count": 11,
   "id": "51e7b36d-7eb6-47f5-884d-9974bb050816",
   "metadata": {},
   "outputs": [],
   "source": [
    "# define translation matrix\n",
    "T = np.float32([[1,0, 50],[0,1,100]])\n",
    "new_img = cv2.warpAffine(img, T, (width, height))"
   ]
  },
  {
   "cell_type": "code",
   "execution_count": 12,
   "id": "b509f589-0c36-4c1c-b0dd-71c6a9339ec6",
   "metadata": {},
   "outputs": [],
   "source": [
    "cv2.imshow('Image', new_img)\n",
    "cv2.waitKey(0)\n",
    "cv2.destroyAllWindows()"
   ]
  },
  {
   "cell_type": "code",
   "execution_count": 13,
   "id": "43f13e38-3cbd-4134-9df6-452186e8d31d",
   "metadata": {},
   "outputs": [],
   "source": [
    "# define translation matrix\n",
    "T = np.float32([[1,0, -50],[0,1,-100]])\n",
    "new_img = cv2.warpAffine(img, T, (width, height))"
   ]
  },
  {
   "cell_type": "code",
   "execution_count": 14,
   "id": "167c3e3d-d0cd-44c3-aa1a-20e96652781b",
   "metadata": {},
   "outputs": [],
   "source": [
    "cv2.imshow('Image', new_img)\n",
    "cv2.waitKey(0)\n",
    "cv2.destroyAllWindows()"
   ]
  },
  {
   "cell_type": "code",
   "execution_count": 15,
   "id": "7b53647c-df53-4b89-b675-e1a21eea28c4",
   "metadata": {},
   "outputs": [],
   "source": [
    "# define translation matrix\n",
    "T = np.float32([[1,0, -50],[0,1,-100]])\n",
    "new_img = cv2.warpAffine(img, T, (500, 600))"
   ]
  },
  {
   "cell_type": "code",
   "execution_count": 16,
   "id": "b64ff754-c747-48c0-b237-e620ef1b1526",
   "metadata": {},
   "outputs": [],
   "source": [
    "cv2.imshow('Image', new_img)\n",
    "cv2.waitKey(0)\n",
    "cv2.destroyAllWindows()"
   ]
  },
  {
   "cell_type": "code",
   "execution_count": null,
   "id": "e2c06110-d293-43ce-82f9-5161c520dc25",
   "metadata": {},
   "outputs": [],
   "source": []
  }
 ],
 "metadata": {
  "kernelspec": {
   "display_name": "Python 3 (ipykernel)",
   "language": "python",
   "name": "python3"
  },
  "language_info": {
   "codemirror_mode": {
    "name": "ipython",
    "version": 3
   },
   "file_extension": ".py",
   "mimetype": "text/x-python",
   "name": "python",
   "nbconvert_exporter": "python",
   "pygments_lexer": "ipython3",
   "version": "3.10.12"
  }
 },
 "nbformat": 4,
 "nbformat_minor": 5
}
