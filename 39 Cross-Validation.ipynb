{
 "cells": [
  {
   "cell_type": "markdown",
   "id": "ffb41662-33c1-4fc4-b124-a3982b7fd131",
   "metadata": {},
   "source": [
    "##### Import the libraries"
   ]
  },
  {
   "cell_type": "code",
   "execution_count": 1,
   "id": "72555626-4207-4467-9920-4296f0af3832",
   "metadata": {},
   "outputs": [],
   "source": [
    "import numpy as np\n",
    "import matplotlib.pyplot as plt\n",
    "import pandas as pd"
   ]
  },
  {
   "cell_type": "markdown",
   "id": "be61b2ee-b5c0-4fde-a2ca-25a8f6aab393",
   "metadata": {},
   "source": [
    "##### Dataset"
   ]
  },
  {
   "cell_type": "code",
   "execution_count": 4,
   "id": "7c2d423a-4630-4ae2-94e1-26d84d4b83db",
   "metadata": {},
   "outputs": [],
   "source": [
    "df = pd.read_csv('datasets/Social_Network_Ads.csv')"
   ]
  },
  {
   "cell_type": "code",
   "execution_count": 5,
   "id": "d47b7d86-c348-45dd-b645-866c4fd6bc9f",
   "metadata": {},
   "outputs": [
    {
     "data": {
      "text/plain": [
       "(400, 5)"
      ]
     },
     "execution_count": 5,
     "metadata": {},
     "output_type": "execute_result"
    }
   ],
   "source": [
    "df.shape"
   ]
  },
  {
   "cell_type": "markdown",
   "id": "9aefc9ca-a7e3-43d9-87b9-c599cd482c7b",
   "metadata": {},
   "source": [
    "##### Holdout Method"
   ]
  },
  {
   "cell_type": "code",
   "execution_count": 7,
   "id": "1c0a2e67-d296-4437-b773-57202c53ec8a",
   "metadata": {},
   "outputs": [],
   "source": [
    "from sklearn.model_selection import train_test_split"
   ]
  },
  {
   "cell_type": "code",
   "execution_count": 12,
   "id": "a9b06e79-60fa-4016-a786-51e6458ef4ab",
   "metadata": {},
   "outputs": [],
   "source": [
    "train, test = train_test_split(df)"
   ]
  },
  {
   "cell_type": "code",
   "execution_count": 13,
   "id": "80251815-30b4-4c37-b365-caae5491e9d7",
   "metadata": {},
   "outputs": [
    {
     "data": {
      "text/plain": [
       "(300, 5)"
      ]
     },
     "execution_count": 13,
     "metadata": {},
     "output_type": "execute_result"
    }
   ],
   "source": [
    "train.shape"
   ]
  },
  {
   "cell_type": "code",
   "execution_count": 14,
   "id": "ac22ce21-8015-4b1a-a001-16dc59febf80",
   "metadata": {},
   "outputs": [
    {
     "data": {
      "text/plain": [
       "(100, 5)"
      ]
     },
     "execution_count": 14,
     "metadata": {},
     "output_type": "execute_result"
    }
   ],
   "source": [
    "test.shape"
   ]
  },
  {
   "cell_type": "code",
   "execution_count": 15,
   "id": "58775d1b-1e8a-4fad-b79d-a8fe103beb85",
   "metadata": {},
   "outputs": [
    {
     "data": {
      "text/html": [
       "<div>\n",
       "<style scoped>\n",
       "    .dataframe tbody tr th:only-of-type {\n",
       "        vertical-align: middle;\n",
       "    }\n",
       "\n",
       "    .dataframe tbody tr th {\n",
       "        vertical-align: top;\n",
       "    }\n",
       "\n",
       "    .dataframe thead th {\n",
       "        text-align: right;\n",
       "    }\n",
       "</style>\n",
       "<table border=\"1\" class=\"dataframe\">\n",
       "  <thead>\n",
       "    <tr style=\"text-align: right;\">\n",
       "      <th></th>\n",
       "      <th>User ID</th>\n",
       "      <th>Gender</th>\n",
       "      <th>Age</th>\n",
       "      <th>EstimatedSalary</th>\n",
       "      <th>Purchased</th>\n",
       "    </tr>\n",
       "  </thead>\n",
       "  <tbody>\n",
       "    <tr>\n",
       "      <th>163</th>\n",
       "      <td>15757837</td>\n",
       "      <td>Male</td>\n",
       "      <td>35.0</td>\n",
       "      <td>38000.0</td>\n",
       "      <td>0</td>\n",
       "    </tr>\n",
       "    <tr>\n",
       "      <th>271</th>\n",
       "      <td>15688172</td>\n",
       "      <td>Female</td>\n",
       "      <td>59.0</td>\n",
       "      <td>76000.0</td>\n",
       "      <td>1</td>\n",
       "    </tr>\n",
       "    <tr>\n",
       "      <th>192</th>\n",
       "      <td>15779581</td>\n",
       "      <td>Male</td>\n",
       "      <td>29.0</td>\n",
       "      <td>43000.0</td>\n",
       "      <td>0</td>\n",
       "    </tr>\n",
       "    <tr>\n",
       "      <th>117</th>\n",
       "      <td>15591433</td>\n",
       "      <td>Male</td>\n",
       "      <td>36.0</td>\n",
       "      <td>52000.0</td>\n",
       "      <td>0</td>\n",
       "    </tr>\n",
       "    <tr>\n",
       "      <th>18</th>\n",
       "      <td>15704583</td>\n",
       "      <td>Male</td>\n",
       "      <td>46.0</td>\n",
       "      <td>28000.0</td>\n",
       "      <td>1</td>\n",
       "    </tr>\n",
       "    <tr>\n",
       "      <th>...</th>\n",
       "      <td>...</td>\n",
       "      <td>...</td>\n",
       "      <td>...</td>\n",
       "      <td>...</td>\n",
       "      <td>...</td>\n",
       "    </tr>\n",
       "    <tr>\n",
       "      <th>35</th>\n",
       "      <td>15713144</td>\n",
       "      <td>Male</td>\n",
       "      <td>35.0</td>\n",
       "      <td>27000.0</td>\n",
       "      <td>0</td>\n",
       "    </tr>\n",
       "    <tr>\n",
       "      <th>279</th>\n",
       "      <td>15759684</td>\n",
       "      <td>Female</td>\n",
       "      <td>50.0</td>\n",
       "      <td>36000.0</td>\n",
       "      <td>1</td>\n",
       "    </tr>\n",
       "    <tr>\n",
       "      <th>334</th>\n",
       "      <td>15814553</td>\n",
       "      <td>Male</td>\n",
       "      <td>57.0</td>\n",
       "      <td>60000.0</td>\n",
       "      <td>1</td>\n",
       "    </tr>\n",
       "    <tr>\n",
       "      <th>30</th>\n",
       "      <td>15581198</td>\n",
       "      <td>Male</td>\n",
       "      <td>31.0</td>\n",
       "      <td>74000.0</td>\n",
       "      <td>0</td>\n",
       "    </tr>\n",
       "    <tr>\n",
       "      <th>113</th>\n",
       "      <td>15773447</td>\n",
       "      <td>Male</td>\n",
       "      <td>37.0</td>\n",
       "      <td>55000.0</td>\n",
       "      <td>0</td>\n",
       "    </tr>\n",
       "  </tbody>\n",
       "</table>\n",
       "<p>300 rows × 5 columns</p>\n",
       "</div>"
      ],
      "text/plain": [
       "      User ID  Gender   Age  EstimatedSalary  Purchased\n",
       "163  15757837    Male  35.0          38000.0          0\n",
       "271  15688172  Female  59.0          76000.0          1\n",
       "192  15779581    Male  29.0          43000.0          0\n",
       "117  15591433    Male  36.0          52000.0          0\n",
       "18   15704583    Male  46.0          28000.0          1\n",
       "..        ...     ...   ...              ...        ...\n",
       "35   15713144    Male  35.0          27000.0          0\n",
       "279  15759684  Female  50.0          36000.0          1\n",
       "334  15814553    Male  57.0          60000.0          1\n",
       "30   15581198    Male  31.0          74000.0          0\n",
       "113  15773447    Male  37.0          55000.0          0\n",
       "\n",
       "[300 rows x 5 columns]"
      ]
     },
     "execution_count": 15,
     "metadata": {},
     "output_type": "execute_result"
    }
   ],
   "source": [
    "train"
   ]
  },
  {
   "cell_type": "code",
   "execution_count": 16,
   "id": "66a94d80-0c94-4200-a263-c1b06b6aa631",
   "metadata": {},
   "outputs": [],
   "source": [
    "train, test = train_test_split(df, random_state=0)"
   ]
  },
  {
   "cell_type": "code",
   "execution_count": 17,
   "id": "0840ae76-2742-48a0-933c-f900b24f2c3e",
   "metadata": {},
   "outputs": [
    {
     "data": {
      "text/html": [
       "<div>\n",
       "<style scoped>\n",
       "    .dataframe tbody tr th:only-of-type {\n",
       "        vertical-align: middle;\n",
       "    }\n",
       "\n",
       "    .dataframe tbody tr th {\n",
       "        vertical-align: top;\n",
       "    }\n",
       "\n",
       "    .dataframe thead th {\n",
       "        text-align: right;\n",
       "    }\n",
       "</style>\n",
       "<table border=\"1\" class=\"dataframe\">\n",
       "  <thead>\n",
       "    <tr style=\"text-align: right;\">\n",
       "      <th></th>\n",
       "      <th>User ID</th>\n",
       "      <th>Gender</th>\n",
       "      <th>Age</th>\n",
       "      <th>EstimatedSalary</th>\n",
       "      <th>Purchased</th>\n",
       "    </tr>\n",
       "  </thead>\n",
       "  <tbody>\n",
       "    <tr>\n",
       "      <th>250</th>\n",
       "      <td>15810075</td>\n",
       "      <td>Female</td>\n",
       "      <td>44.0</td>\n",
       "      <td>39000.0</td>\n",
       "      <td>0</td>\n",
       "    </tr>\n",
       "    <tr>\n",
       "      <th>63</th>\n",
       "      <td>15583681</td>\n",
       "      <td>Male</td>\n",
       "      <td>32.0</td>\n",
       "      <td>120000.0</td>\n",
       "      <td>1</td>\n",
       "    </tr>\n",
       "    <tr>\n",
       "      <th>312</th>\n",
       "      <td>15733964</td>\n",
       "      <td>Female</td>\n",
       "      <td>38.0</td>\n",
       "      <td>50000.0</td>\n",
       "      <td>0</td>\n",
       "    </tr>\n",
       "    <tr>\n",
       "      <th>159</th>\n",
       "      <td>15598840</td>\n",
       "      <td>Female</td>\n",
       "      <td>32.0</td>\n",
       "      <td>135000.0</td>\n",
       "      <td>1</td>\n",
       "    </tr>\n",
       "    <tr>\n",
       "      <th>283</th>\n",
       "      <td>15663249</td>\n",
       "      <td>Female</td>\n",
       "      <td>52.0</td>\n",
       "      <td>21000.0</td>\n",
       "      <td>1</td>\n",
       "    </tr>\n",
       "    <tr>\n",
       "      <th>...</th>\n",
       "      <td>...</td>\n",
       "      <td>...</td>\n",
       "      <td>...</td>\n",
       "      <td>...</td>\n",
       "      <td>...</td>\n",
       "    </tr>\n",
       "    <tr>\n",
       "      <th>323</th>\n",
       "      <td>15619465</td>\n",
       "      <td>Female</td>\n",
       "      <td>48.0</td>\n",
       "      <td>30000.0</td>\n",
       "      <td>1</td>\n",
       "    </tr>\n",
       "    <tr>\n",
       "      <th>192</th>\n",
       "      <td>15779581</td>\n",
       "      <td>Male</td>\n",
       "      <td>29.0</td>\n",
       "      <td>43000.0</td>\n",
       "      <td>0</td>\n",
       "    </tr>\n",
       "    <tr>\n",
       "      <th>117</th>\n",
       "      <td>15591433</td>\n",
       "      <td>Male</td>\n",
       "      <td>36.0</td>\n",
       "      <td>52000.0</td>\n",
       "      <td>0</td>\n",
       "    </tr>\n",
       "    <tr>\n",
       "      <th>47</th>\n",
       "      <td>15776348</td>\n",
       "      <td>Female</td>\n",
       "      <td>27.0</td>\n",
       "      <td>54000.0</td>\n",
       "      <td>0</td>\n",
       "    </tr>\n",
       "    <tr>\n",
       "      <th>172</th>\n",
       "      <td>15794661</td>\n",
       "      <td>Female</td>\n",
       "      <td>26.0</td>\n",
       "      <td>118000.0</td>\n",
       "      <td>0</td>\n",
       "    </tr>\n",
       "  </tbody>\n",
       "</table>\n",
       "<p>300 rows × 5 columns</p>\n",
       "</div>"
      ],
      "text/plain": [
       "      User ID  Gender   Age  EstimatedSalary  Purchased\n",
       "250  15810075  Female  44.0          39000.0          0\n",
       "63   15583681    Male  32.0         120000.0          1\n",
       "312  15733964  Female  38.0          50000.0          0\n",
       "159  15598840  Female  32.0         135000.0          1\n",
       "283  15663249  Female  52.0          21000.0          1\n",
       "..        ...     ...   ...              ...        ...\n",
       "323  15619465  Female  48.0          30000.0          1\n",
       "192  15779581    Male  29.0          43000.0          0\n",
       "117  15591433    Male  36.0          52000.0          0\n",
       "47   15776348  Female  27.0          54000.0          0\n",
       "172  15794661  Female  26.0         118000.0          0\n",
       "\n",
       "[300 rows x 5 columns]"
      ]
     },
     "execution_count": 17,
     "metadata": {},
     "output_type": "execute_result"
    }
   ],
   "source": [
    "train"
   ]
  },
  {
   "cell_type": "code",
   "execution_count": 18,
   "id": "18cadd0d-5721-4f49-9266-bbd67b39a5d8",
   "metadata": {},
   "outputs": [
    {
     "data": {
      "text/html": [
       "<div>\n",
       "<style scoped>\n",
       "    .dataframe tbody tr th:only-of-type {\n",
       "        vertical-align: middle;\n",
       "    }\n",
       "\n",
       "    .dataframe tbody tr th {\n",
       "        vertical-align: top;\n",
       "    }\n",
       "\n",
       "    .dataframe thead th {\n",
       "        text-align: right;\n",
       "    }\n",
       "</style>\n",
       "<table border=\"1\" class=\"dataframe\">\n",
       "  <thead>\n",
       "    <tr style=\"text-align: right;\">\n",
       "      <th></th>\n",
       "      <th>User ID</th>\n",
       "      <th>Gender</th>\n",
       "      <th>Age</th>\n",
       "      <th>EstimatedSalary</th>\n",
       "      <th>Purchased</th>\n",
       "    </tr>\n",
       "  </thead>\n",
       "  <tbody>\n",
       "    <tr>\n",
       "      <th>132</th>\n",
       "      <td>15725660</td>\n",
       "      <td>Male</td>\n",
       "      <td>30.0</td>\n",
       "      <td>87000.0</td>\n",
       "      <td>0</td>\n",
       "    </tr>\n",
       "    <tr>\n",
       "      <th>309</th>\n",
       "      <td>15652400</td>\n",
       "      <td>Female</td>\n",
       "      <td>38.0</td>\n",
       "      <td>50000.0</td>\n",
       "      <td>0</td>\n",
       "    </tr>\n",
       "    <tr>\n",
       "      <th>341</th>\n",
       "      <td>15776844</td>\n",
       "      <td>Male</td>\n",
       "      <td>35.0</td>\n",
       "      <td>75000.0</td>\n",
       "      <td>0</td>\n",
       "    </tr>\n",
       "    <tr>\n",
       "      <th>196</th>\n",
       "      <td>15738448</td>\n",
       "      <td>Female</td>\n",
       "      <td>30.0</td>\n",
       "      <td>79000.0</td>\n",
       "      <td>0</td>\n",
       "    </tr>\n",
       "    <tr>\n",
       "      <th>246</th>\n",
       "      <td>15638003</td>\n",
       "      <td>Female</td>\n",
       "      <td>35.0</td>\n",
       "      <td>50000.0</td>\n",
       "      <td>0</td>\n",
       "    </tr>\n",
       "    <tr>\n",
       "      <th>...</th>\n",
       "      <td>...</td>\n",
       "      <td>...</td>\n",
       "      <td>...</td>\n",
       "      <td>...</td>\n",
       "      <td>...</td>\n",
       "    </tr>\n",
       "    <tr>\n",
       "      <th>146</th>\n",
       "      <td>15750839</td>\n",
       "      <td>Female</td>\n",
       "      <td>27.0</td>\n",
       "      <td>96000.0</td>\n",
       "      <td>1</td>\n",
       "    </tr>\n",
       "    <tr>\n",
       "      <th>135</th>\n",
       "      <td>15578006</td>\n",
       "      <td>Male</td>\n",
       "      <td>23.0</td>\n",
       "      <td>63000.0</td>\n",
       "      <td>0</td>\n",
       "    </tr>\n",
       "    <tr>\n",
       "      <th>390</th>\n",
       "      <td>15807837</td>\n",
       "      <td>Male</td>\n",
       "      <td>48.0</td>\n",
       "      <td>33000.0</td>\n",
       "      <td>1</td>\n",
       "    </tr>\n",
       "    <tr>\n",
       "      <th>264</th>\n",
       "      <td>15600379</td>\n",
       "      <td>Male</td>\n",
       "      <td>48.0</td>\n",
       "      <td>90000.0</td>\n",
       "      <td>1</td>\n",
       "    </tr>\n",
       "    <tr>\n",
       "      <th>364</th>\n",
       "      <td>15654456</td>\n",
       "      <td>Male</td>\n",
       "      <td>42.0</td>\n",
       "      <td>104000.0</td>\n",
       "      <td>1</td>\n",
       "    </tr>\n",
       "  </tbody>\n",
       "</table>\n",
       "<p>100 rows × 5 columns</p>\n",
       "</div>"
      ],
      "text/plain": [
       "      User ID  Gender   Age  EstimatedSalary  Purchased\n",
       "132  15725660    Male  30.0          87000.0          0\n",
       "309  15652400  Female  38.0          50000.0          0\n",
       "341  15776844    Male  35.0          75000.0          0\n",
       "196  15738448  Female  30.0          79000.0          0\n",
       "246  15638003  Female  35.0          50000.0          0\n",
       "..        ...     ...   ...              ...        ...\n",
       "146  15750839  Female  27.0          96000.0          1\n",
       "135  15578006    Male  23.0          63000.0          0\n",
       "390  15807837    Male  48.0          33000.0          1\n",
       "264  15600379    Male  48.0          90000.0          1\n",
       "364  15654456    Male  42.0         104000.0          1\n",
       "\n",
       "[100 rows x 5 columns]"
      ]
     },
     "execution_count": 18,
     "metadata": {},
     "output_type": "execute_result"
    }
   ],
   "source": [
    "test"
   ]
  },
  {
   "cell_type": "code",
   "execution_count": 19,
   "id": "a4b9dc1e-4b2f-477b-99e8-4abe3b040977",
   "metadata": {},
   "outputs": [],
   "source": [
    "train, test = train_test_split(df, random_state=0, test_size=0.2)"
   ]
  },
  {
   "cell_type": "code",
   "execution_count": 20,
   "id": "a6847e0c-767c-4b8c-bb86-976f27aa2878",
   "metadata": {},
   "outputs": [
    {
     "data": {
      "text/plain": [
       "(320, 5)"
      ]
     },
     "execution_count": 20,
     "metadata": {},
     "output_type": "execute_result"
    }
   ],
   "source": [
    "train.shape"
   ]
  },
  {
   "cell_type": "code",
   "execution_count": 21,
   "id": "c4e4dff3-34a2-405b-9401-72324b5b733c",
   "metadata": {},
   "outputs": [
    {
     "data": {
      "text/plain": [
       "(80, 5)"
      ]
     },
     "execution_count": 21,
     "metadata": {},
     "output_type": "execute_result"
    }
   ],
   "source": [
    "test.shape"
   ]
  },
  {
   "cell_type": "code",
   "execution_count": 23,
   "id": "974b2c88-dbb0-4ab4-a650-6ed36eb90bc9",
   "metadata": {},
   "outputs": [],
   "source": [
    "x = df.drop('Purchased', axis = 1)\n",
    "y = df['Purchased']"
   ]
  },
  {
   "cell_type": "code",
   "execution_count": 24,
   "id": "f694cbd7-9a51-4217-998b-f2021cae24b5",
   "metadata": {},
   "outputs": [],
   "source": [
    "x_train, x_test, y_train, y_test = train_test_split(x, y, random_state=0)"
   ]
  },
  {
   "cell_type": "code",
   "execution_count": 25,
   "id": "57cf21fc-1566-479f-8d69-4d28e139d9bd",
   "metadata": {},
   "outputs": [
    {
     "data": {
      "text/plain": [
       "((300, 4), (100, 4))"
      ]
     },
     "execution_count": 25,
     "metadata": {},
     "output_type": "execute_result"
    }
   ],
   "source": [
    "x_train.shape, x_test.shape"
   ]
  },
  {
   "cell_type": "code",
   "execution_count": 26,
   "id": "2c42079d-d115-4d96-8125-2ec9597d7c5a",
   "metadata": {},
   "outputs": [
    {
     "data": {
      "text/plain": [
       "((300,), (100,))"
      ]
     },
     "execution_count": 26,
     "metadata": {},
     "output_type": "execute_result"
    }
   ],
   "source": [
    "y_train.shape, y_test.shape"
   ]
  },
  {
   "cell_type": "code",
   "execution_count": 29,
   "id": "f38e30c7-b229-4a2c-baa0-1c6a18cc86f3",
   "metadata": {},
   "outputs": [
    {
     "data": {
      "text/plain": [
       "Purchased\n",
       "0    64.25\n",
       "1    35.75\n",
       "Name: count, dtype: float64"
      ]
     },
     "execution_count": 29,
     "metadata": {},
     "output_type": "execute_result"
    }
   ],
   "source": [
    "y.value_counts() / len(y) * 100"
   ]
  },
  {
   "cell_type": "code",
   "execution_count": 30,
   "id": "7697a076-761d-4de7-a460-9677eb7b4f7d",
   "metadata": {},
   "outputs": [
    {
     "data": {
      "text/plain": [
       "Purchased\n",
       "0    63.0\n",
       "1    37.0\n",
       "Name: count, dtype: float64"
      ]
     },
     "execution_count": 30,
     "metadata": {},
     "output_type": "execute_result"
    }
   ],
   "source": [
    "y_train.value_counts() / len(y_train) * 100"
   ]
  },
  {
   "cell_type": "code",
   "execution_count": 31,
   "id": "0865d29d-4baf-4dd6-8d40-b03d593bc45f",
   "metadata": {},
   "outputs": [
    {
     "data": {
      "text/plain": [
       "Purchased\n",
       "0    68.0\n",
       "1    32.0\n",
       "Name: count, dtype: float64"
      ]
     },
     "execution_count": 31,
     "metadata": {},
     "output_type": "execute_result"
    }
   ],
   "source": [
    "y_test.value_counts() / len(y_test) * 100"
   ]
  },
  {
   "cell_type": "code",
   "execution_count": 32,
   "id": "29a7ff07-6749-48ad-8e64-f6ee55e6c09b",
   "metadata": {},
   "outputs": [],
   "source": [
    "x_train, x_test, y_train, y_test = train_test_split(\n",
    "    x, y, random_state=0, stratify=y)"
   ]
  },
  {
   "cell_type": "code",
   "execution_count": 33,
   "id": "814783f6-5eca-49e3-871a-6d567997082b",
   "metadata": {},
   "outputs": [
    {
     "data": {
      "text/plain": [
       "Purchased\n",
       "0    64.333333\n",
       "1    35.666667\n",
       "Name: count, dtype: float64"
      ]
     },
     "execution_count": 33,
     "metadata": {},
     "output_type": "execute_result"
    }
   ],
   "source": [
    "y_train.value_counts() / len(y_train) * 100"
   ]
  },
  {
   "cell_type": "code",
   "execution_count": 34,
   "id": "17a1944d-6f0e-4b97-9afa-0300cccd6c2e",
   "metadata": {},
   "outputs": [
    {
     "data": {
      "text/plain": [
       "Purchased\n",
       "0    64.0\n",
       "1    36.0\n",
       "Name: count, dtype: float64"
      ]
     },
     "execution_count": 34,
     "metadata": {},
     "output_type": "execute_result"
    }
   ],
   "source": [
    "y_test.value_counts() / len(y_test) * 100"
   ]
  },
  {
   "cell_type": "code",
   "execution_count": null,
   "id": "a2889e93-3e14-41bc-97aa-91c61e36fabc",
   "metadata": {},
   "outputs": [],
   "source": []
  }
 ],
 "metadata": {
  "kernelspec": {
   "display_name": "Python 3 (ipykernel)",
   "language": "python",
   "name": "python3"
  },
  "language_info": {
   "codemirror_mode": {
    "name": "ipython",
    "version": 3
   },
   "file_extension": ".py",
   "mimetype": "text/x-python",
   "name": "python",
   "nbconvert_exporter": "python",
   "pygments_lexer": "ipython3",
   "version": "3.10.12"
  }
 },
 "nbformat": 4,
 "nbformat_minor": 5
}
