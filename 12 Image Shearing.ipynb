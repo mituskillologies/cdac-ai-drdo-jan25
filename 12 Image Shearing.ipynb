{
 "cells": [
  {
   "cell_type": "code",
   "execution_count": 1,
   "id": "e1ee8d30-5aca-4342-a438-31e0a223719b",
   "metadata": {},
   "outputs": [],
   "source": [
    "import numpy as np\n",
    "import cv2\n",
    "import matplotlib.pyplot as plt"
   ]
  },
  {
   "cell_type": "code",
   "execution_count": 2,
   "id": "c1739080-3287-48ef-9d1c-aa376a3f75bb",
   "metadata": {},
   "outputs": [],
   "source": [
    "img = cv2.imread('images/sachin.jpg')"
   ]
  },
  {
   "cell_type": "code",
   "execution_count": 3,
   "id": "ce28bc46-9814-41e1-a946-e5fb13e093a2",
   "metadata": {},
   "outputs": [],
   "source": [
    "T = np.float32([[1, 0.25, 0],[0.40, 1, 0],[0, 0, 1]])"
   ]
  },
  {
   "cell_type": "code",
   "execution_count": 4,
   "id": "7b136b2b-2389-403b-b7d6-f2403962d240",
   "metadata": {},
   "outputs": [
    {
     "data": {
      "text/plain": [
       "array([[1.  , 0.25, 0.  ],\n",
       "       [0.4 , 1.  , 0.  ],\n",
       "       [0.  , 0.  , 1.  ]], dtype=float32)"
      ]
     },
     "execution_count": 4,
     "metadata": {},
     "output_type": "execute_result"
    }
   ],
   "source": [
    "T"
   ]
  },
  {
   "cell_type": "code",
   "execution_count": 7,
   "id": "796ac931-8ce3-45f3-8fc0-f1dda1d7ae9b",
   "metadata": {},
   "outputs": [],
   "source": [
    "img_new = cv2.warpPerspective(img, T, (img.shape[1], img.shape[0]))"
   ]
  },
  {
   "cell_type": "code",
   "execution_count": 8,
   "id": "52700f58-3ee7-4831-a7b0-9af92209d450",
   "metadata": {},
   "outputs": [],
   "source": [
    "cv2.imshow('Sheared Image', img_new)\n",
    "cv2.waitKey(0)\n",
    "cv2.destroyAllWindows()"
   ]
  },
  {
   "cell_type": "code",
   "execution_count": 11,
   "id": "cb522a36-d013-4770-805c-6ca5161f3736",
   "metadata": {},
   "outputs": [],
   "source": [
    "T = np.float32([[1, -0.25, 0],[0, 1, 0],[0, 0, 1]])"
   ]
  },
  {
   "cell_type": "code",
   "execution_count": 12,
   "id": "531ca84d-0caa-46c5-8238-6471b4442b9e",
   "metadata": {},
   "outputs": [],
   "source": [
    "img_new = cv2.warpPerspective(img, T, (img.shape[1], img.shape[0]))\n",
    "cv2.imshow('Sheared Image', img_new)\n",
    "cv2.waitKey(0)\n",
    "cv2.destroyAllWindows()"
   ]
  },
  {
   "cell_type": "code",
   "execution_count": null,
   "id": "7c736044-3966-44ee-9b2b-2fcb19d800ea",
   "metadata": {},
   "outputs": [],
   "source": []
  }
 ],
 "metadata": {
  "kernelspec": {
   "display_name": "Python 3 (ipykernel)",
   "language": "python",
   "name": "python3"
  },
  "language_info": {
   "codemirror_mode": {
    "name": "ipython",
    "version": 3
   },
   "file_extension": ".py",
   "mimetype": "text/x-python",
   "name": "python",
   "nbconvert_exporter": "python",
   "pygments_lexer": "ipython3",
   "version": "3.10.12"
  }
 },
 "nbformat": 4,
 "nbformat_minor": 5
}
