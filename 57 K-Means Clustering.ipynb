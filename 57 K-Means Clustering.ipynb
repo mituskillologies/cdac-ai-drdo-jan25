{
 "cells": [
  {
   "cell_type": "markdown",
   "id": "543a647c-7478-44e3-925b-84be9e3acaff",
   "metadata": {},
   "source": [
    "##### Dataset"
   ]
  },
  {
   "cell_type": "code",
   "execution_count": 1,
   "id": "77b3d956-f826-4592-9d0c-4553004f0d91",
   "metadata": {},
   "outputs": [],
   "source": [
    "# Mall_Customers.csv\n",
    "# https://mitu.co.in/dataset"
   ]
  },
  {
   "cell_type": "markdown",
   "id": "b9f64389-f540-4295-88eb-0796057e1d2f",
   "metadata": {},
   "source": [
    "##### Load the libraries"
   ]
  },
  {
   "cell_type": "code",
   "execution_count": 2,
   "id": "8845d238-f84a-4403-a649-de98785138ef",
   "metadata": {},
   "outputs": [],
   "source": [
    "import numpy as np\n",
    "import matplotlib.pyplot as plt\n",
    "import pandas as pd\n",
    "import seaborn as sns"
   ]
  },
  {
   "cell_type": "markdown",
   "id": "482ee6dd-049f-46ee-9b4d-b5113f365516",
   "metadata": {},
   "source": [
    "##### Read the dataset"
   ]
  },
  {
   "cell_type": "code",
   "execution_count": 3,
   "id": "73f70912-1bcb-4cfb-984c-87edd9ff87db",
   "metadata": {},
   "outputs": [],
   "source": [
    "df = pd.read_csv('datasets/Mall_Customers.csv')"
   ]
  },
  {
   "cell_type": "code",
   "execution_count": 7,
   "id": "c1e2af5d-5332-4f21-b8eb-84f729c1e7e2",
   "metadata": {},
   "outputs": [
    {
     "data": {
      "text/html": [
       "<div>\n",
       "<style scoped>\n",
       "    .dataframe tbody tr th:only-of-type {\n",
       "        vertical-align: middle;\n",
       "    }\n",
       "\n",
       "    .dataframe tbody tr th {\n",
       "        vertical-align: top;\n",
       "    }\n",
       "\n",
       "    .dataframe thead th {\n",
       "        text-align: right;\n",
       "    }\n",
       "</style>\n",
       "<table border=\"1\" class=\"dataframe\">\n",
       "  <thead>\n",
       "    <tr style=\"text-align: right;\">\n",
       "      <th></th>\n",
       "      <th>CustomerID</th>\n",
       "      <th>Genre</th>\n",
       "      <th>Age</th>\n",
       "      <th>Annual Income (k$)</th>\n",
       "      <th>Spending Score (1-100)</th>\n",
       "    </tr>\n",
       "  </thead>\n",
       "  <tbody>\n",
       "    <tr>\n",
       "      <th>0</th>\n",
       "      <td>1</td>\n",
       "      <td>Male</td>\n",
       "      <td>19</td>\n",
       "      <td>15</td>\n",
       "      <td>39</td>\n",
       "    </tr>\n",
       "    <tr>\n",
       "      <th>1</th>\n",
       "      <td>2</td>\n",
       "      <td>Male</td>\n",
       "      <td>21</td>\n",
       "      <td>15</td>\n",
       "      <td>81</td>\n",
       "    </tr>\n",
       "    <tr>\n",
       "      <th>2</th>\n",
       "      <td>3</td>\n",
       "      <td>Female</td>\n",
       "      <td>20</td>\n",
       "      <td>16</td>\n",
       "      <td>6</td>\n",
       "    </tr>\n",
       "    <tr>\n",
       "      <th>3</th>\n",
       "      <td>4</td>\n",
       "      <td>Female</td>\n",
       "      <td>23</td>\n",
       "      <td>16</td>\n",
       "      <td>77</td>\n",
       "    </tr>\n",
       "    <tr>\n",
       "      <th>4</th>\n",
       "      <td>5</td>\n",
       "      <td>Female</td>\n",
       "      <td>31</td>\n",
       "      <td>17</td>\n",
       "      <td>40</td>\n",
       "    </tr>\n",
       "    <tr>\n",
       "      <th>...</th>\n",
       "      <td>...</td>\n",
       "      <td>...</td>\n",
       "      <td>...</td>\n",
       "      <td>...</td>\n",
       "      <td>...</td>\n",
       "    </tr>\n",
       "    <tr>\n",
       "      <th>195</th>\n",
       "      <td>196</td>\n",
       "      <td>Female</td>\n",
       "      <td>35</td>\n",
       "      <td>120</td>\n",
       "      <td>79</td>\n",
       "    </tr>\n",
       "    <tr>\n",
       "      <th>196</th>\n",
       "      <td>197</td>\n",
       "      <td>Female</td>\n",
       "      <td>45</td>\n",
       "      <td>126</td>\n",
       "      <td>28</td>\n",
       "    </tr>\n",
       "    <tr>\n",
       "      <th>197</th>\n",
       "      <td>198</td>\n",
       "      <td>Male</td>\n",
       "      <td>32</td>\n",
       "      <td>126</td>\n",
       "      <td>74</td>\n",
       "    </tr>\n",
       "    <tr>\n",
       "      <th>198</th>\n",
       "      <td>199</td>\n",
       "      <td>Male</td>\n",
       "      <td>32</td>\n",
       "      <td>137</td>\n",
       "      <td>18</td>\n",
       "    </tr>\n",
       "    <tr>\n",
       "      <th>199</th>\n",
       "      <td>200</td>\n",
       "      <td>Male</td>\n",
       "      <td>30</td>\n",
       "      <td>137</td>\n",
       "      <td>83</td>\n",
       "    </tr>\n",
       "  </tbody>\n",
       "</table>\n",
       "<p>200 rows × 5 columns</p>\n",
       "</div>"
      ],
      "text/plain": [
       "     CustomerID   Genre  Age  Annual Income (k$)  Spending Score (1-100)\n",
       "0             1    Male   19                  15                      39\n",
       "1             2    Male   21                  15                      81\n",
       "2             3  Female   20                  16                       6\n",
       "3             4  Female   23                  16                      77\n",
       "4             5  Female   31                  17                      40\n",
       "..          ...     ...  ...                 ...                     ...\n",
       "195         196  Female   35                 120                      79\n",
       "196         197  Female   45                 126                      28\n",
       "197         198    Male   32                 126                      74\n",
       "198         199    Male   32                 137                      18\n",
       "199         200    Male   30                 137                      83\n",
       "\n",
       "[200 rows x 5 columns]"
      ]
     },
     "execution_count": 7,
     "metadata": {},
     "output_type": "execute_result"
    }
   ],
   "source": [
    "df"
   ]
  },
  {
   "cell_type": "code",
   "execution_count": 4,
   "id": "1ef797b3-9fb3-4f24-a853-fe114b25ab82",
   "metadata": {},
   "outputs": [
    {
     "data": {
      "text/plain": [
       "(200, 5)"
      ]
     },
     "execution_count": 4,
     "metadata": {},
     "output_type": "execute_result"
    }
   ],
   "source": [
    "df.shape"
   ]
  },
  {
   "cell_type": "markdown",
   "id": "f883eb09-caf7-4a00-8bc6-ecdf01b6224c",
   "metadata": {},
   "source": [
    "##### Decide the features"
   ]
  },
  {
   "cell_type": "code",
   "execution_count": 6,
   "id": "31585d2d-3e1f-4461-9f9e-fc87f41eee8c",
   "metadata": {},
   "outputs": [],
   "source": [
    "x = df.iloc[:,[3,4]]"
   ]
  },
  {
   "cell_type": "code",
   "execution_count": 7,
   "id": "5636da2f-4828-4ffe-828f-7b8da928d09e",
   "metadata": {},
   "outputs": [
    {
     "data": {
      "text/html": [
       "<div>\n",
       "<style scoped>\n",
       "    .dataframe tbody tr th:only-of-type {\n",
       "        vertical-align: middle;\n",
       "    }\n",
       "\n",
       "    .dataframe tbody tr th {\n",
       "        vertical-align: top;\n",
       "    }\n",
       "\n",
       "    .dataframe thead th {\n",
       "        text-align: right;\n",
       "    }\n",
       "</style>\n",
       "<table border=\"1\" class=\"dataframe\">\n",
       "  <thead>\n",
       "    <tr style=\"text-align: right;\">\n",
       "      <th></th>\n",
       "      <th>Annual Income (k$)</th>\n",
       "      <th>Spending Score (1-100)</th>\n",
       "    </tr>\n",
       "  </thead>\n",
       "  <tbody>\n",
       "    <tr>\n",
       "      <th>0</th>\n",
       "      <td>15</td>\n",
       "      <td>39</td>\n",
       "    </tr>\n",
       "    <tr>\n",
       "      <th>1</th>\n",
       "      <td>15</td>\n",
       "      <td>81</td>\n",
       "    </tr>\n",
       "    <tr>\n",
       "      <th>2</th>\n",
       "      <td>16</td>\n",
       "      <td>6</td>\n",
       "    </tr>\n",
       "    <tr>\n",
       "      <th>3</th>\n",
       "      <td>16</td>\n",
       "      <td>77</td>\n",
       "    </tr>\n",
       "    <tr>\n",
       "      <th>4</th>\n",
       "      <td>17</td>\n",
       "      <td>40</td>\n",
       "    </tr>\n",
       "    <tr>\n",
       "      <th>...</th>\n",
       "      <td>...</td>\n",
       "      <td>...</td>\n",
       "    </tr>\n",
       "    <tr>\n",
       "      <th>195</th>\n",
       "      <td>120</td>\n",
       "      <td>79</td>\n",
       "    </tr>\n",
       "    <tr>\n",
       "      <th>196</th>\n",
       "      <td>126</td>\n",
       "      <td>28</td>\n",
       "    </tr>\n",
       "    <tr>\n",
       "      <th>197</th>\n",
       "      <td>126</td>\n",
       "      <td>74</td>\n",
       "    </tr>\n",
       "    <tr>\n",
       "      <th>198</th>\n",
       "      <td>137</td>\n",
       "      <td>18</td>\n",
       "    </tr>\n",
       "    <tr>\n",
       "      <th>199</th>\n",
       "      <td>137</td>\n",
       "      <td>83</td>\n",
       "    </tr>\n",
       "  </tbody>\n",
       "</table>\n",
       "<p>200 rows × 2 columns</p>\n",
       "</div>"
      ],
      "text/plain": [
       "     Annual Income (k$)  Spending Score (1-100)\n",
       "0                    15                      39\n",
       "1                    15                      81\n",
       "2                    16                       6\n",
       "3                    16                      77\n",
       "4                    17                      40\n",
       "..                  ...                     ...\n",
       "195                 120                      79\n",
       "196                 126                      28\n",
       "197                 126                      74\n",
       "198                 137                      18\n",
       "199                 137                      83\n",
       "\n",
       "[200 rows x 2 columns]"
      ]
     },
     "execution_count": 7,
     "metadata": {},
     "output_type": "execute_result"
    }
   ],
   "source": [
    "x"
   ]
  },
  {
   "cell_type": "markdown",
   "id": "196db691-0760-403c-a352-4e0f84ab67c7",
   "metadata": {},
   "source": [
    "##### Elbow Method"
   ]
  },
  {
   "cell_type": "code",
   "execution_count": 9,
   "id": "2fa63acb-969b-4a1f-8981-b17f1da1f5bf",
   "metadata": {},
   "outputs": [],
   "source": [
    "from sklearn.cluster import KMeans"
   ]
  },
  {
   "cell_type": "code",
   "execution_count": 28,
   "id": "c2d881bd-1967-48d1-9bb1-331cdd5cc56b",
   "metadata": {},
   "outputs": [],
   "source": [
    "km = KMeans(random_state=0, n_clusters=7, n_init='auto')"
   ]
  },
  {
   "cell_type": "code",
   "execution_count": 29,
   "id": "977873f8-627e-4295-9a97-a1bb9ece7fad",
   "metadata": {},
   "outputs": [],
   "source": [
    "labels = km.fit_predict(x)"
   ]
  },
  {
   "cell_type": "code",
   "execution_count": 30,
   "id": "b9375db0-afe9-447d-a49a-ec445e8c1939",
   "metadata": {},
   "outputs": [
    {
     "data": {
      "text/plain": [
       "array([3, 5, 3, 5, 3, 5, 3, 5, 3, 5, 3, 5, 3, 5, 3, 5, 3, 5, 3, 5, 3, 5,\n",
       "       3, 5, 3, 5, 3, 4, 3, 5, 3, 5, 3, 5, 3, 5, 3, 5, 3, 5, 4, 5, 4, 4,\n",
       "       3, 4, 4, 4, 4, 4, 4, 4, 4, 4, 4, 4, 4, 4, 4, 4, 4, 4, 4, 4, 4, 4,\n",
       "       4, 4, 4, 4, 4, 4, 4, 4, 0, 4, 4, 0, 4, 0, 4, 4, 0, 0, 4, 0, 0, 0,\n",
       "       0, 0, 0, 0, 0, 0, 0, 0, 0, 0, 0, 0, 0, 0, 0, 0, 0, 0, 0, 0, 0, 0,\n",
       "       0, 0, 0, 0, 0, 0, 0, 0, 0, 0, 0, 0, 0, 1, 0, 1, 0, 1, 2, 1, 2, 1,\n",
       "       0, 1, 2, 1, 2, 1, 2, 1, 2, 1, 0, 1, 2, 1, 0, 1, 2, 1, 2, 1, 2, 1,\n",
       "       2, 1, 2, 1, 2, 1, 0, 1, 2, 1, 2, 1, 2, 1, 2, 1, 2, 1, 2, 1, 2, 1,\n",
       "       2, 1, 2, 1, 2, 1, 2, 1, 2, 1, 2, 6, 2, 6, 2, 6, 2, 6, 2, 6, 2, 6,\n",
       "       2, 6], dtype=int32)"
      ]
     },
     "execution_count": 30,
     "metadata": {},
     "output_type": "execute_result"
    }
   ],
   "source": [
    "labels"
   ]
  },
  {
   "cell_type": "code",
   "execution_count": 31,
   "id": "5442c83d-0f49-4a80-9aec-a034ef689da5",
   "metadata": {},
   "outputs": [
    {
     "data": {
      "text/plain": [
       "31969.426550235476"
      ]
     },
     "execution_count": 31,
     "metadata": {},
     "output_type": "execute_result"
    }
   ],
   "source": [
    "km.inertia_"
   ]
  },
  {
   "cell_type": "code",
   "execution_count": 32,
   "id": "248c1675-78c3-47fb-8925-973df011d680",
   "metadata": {},
   "outputs": [],
   "source": [
    "sse = []\n",
    "\n",
    "for i in range(1,16):\n",
    "    km = KMeans(random_state=0, n_clusters=i, n_init='auto')\n",
    "    km.fit_predict(x)\n",
    "    sse.append(km.inertia_)"
   ]
  },
  {
   "cell_type": "code",
   "execution_count": 33,
   "id": "242b3d4d-108b-4597-a2dc-12d505a79b26",
   "metadata": {},
   "outputs": [
    {
     "data": {
      "text/plain": [
       "[269981.28,\n",
       " 185917.14253928524,\n",
       " 106348.37306211118,\n",
       " 73679.78903948833,\n",
       " 44448.45544793371,\n",
       " 38858.9599751439,\n",
       " 31969.42655023548,\n",
       " 29858.483597603947,\n",
       " 22209.851608025547,\n",
       " 20786.93669205916,\n",
       " 18612.22286800968,\n",
       " 17083.672501709316,\n",
       " 16511.947370563896,\n",
       " 15599.148331445118,\n",
       " 14697.298899626936]"
      ]
     },
     "execution_count": 33,
     "metadata": {},
     "output_type": "execute_result"
    }
   ],
   "source": [
    "sse"
   ]
  },
  {
   "cell_type": "code",
   "execution_count": 35,
   "id": "bb11a19f-53de-4864-a3be-384f7842dcb6",
   "metadata": {},
   "outputs": [
    {
     "data": {
      "text/plain": [
       "[<matplotlib.lines.Line2D at 0x7b0e065e3c40>]"
      ]
     },
     "execution_count": 35,
     "metadata": {},
     "output_type": "execute_result"
    },
    {
     "data": {
      "image/png": "[encoded data removed]",
      "text/plain": [
       "<Figure size 640x480 with 1 Axes>"
      ]
     },
     "metadata": {},
     "output_type": "display_data"
    }
   ],
   "source": [
    "plt.title('Elbow Method')\n",
    "plt.xlabel('Value of K')\n",
    "plt.ylabel('SSE')\n",
    "plt.grid()\n",
    "plt.xticks(range(1,16))\n",
    "plt.plot(range(1,16), sse, marker='.', color='r')"
   ]
  },
  {
   "cell_type": "code",
   "execution_count": 36,
   "id": "c81f86c7-5eb5-4055-bf86-e2df588295e2",
   "metadata": {},
   "outputs": [
    {
     "name": "stdout",
     "output_type": "stream",
     "text": [
      "Defaulting to user installation because normal site-packages is not writeable\n",
      "Requirement already satisfied: kneed in /home/mitu/.local/lib/python3.10/site-packages (0.8.5)\n",
      "Requirement already satisfied: numpy>=1.14.2 in /home/mitu/.local/lib/python3.10/site-packages (from kneed) (1.26.4)\n",
      "Requirement already satisfied: scipy>=1.0.0 in /usr/local/lib/python3.10/dist-packages (from kneed) (1.11.4)\n",
      "Note: you may need to restart the kernel to use updated packages.\n"
     ]
    }
   ],
   "source": [
    "pip install kneed"
   ]
  },
  {
   "cell_type": "code",
   "execution_count": 37,
   "id": "db286829-ba0a-47ff-9ed8-c26626305734",
   "metadata": {},
   "outputs": [],
   "source": [
    "from kneed import KneeLocator"
   ]
  },
  {
   "cell_type": "code",
   "execution_count": 38,
   "id": "c5212b97-f027-4e17-9572-6fe5136cb43d",
   "metadata": {},
   "outputs": [
    {
     "name": "stdout",
     "output_type": "stream",
     "text": [
      "Help on class KneeLocator in module kneed.knee_locator:\n",
      "\n",
      "class KneeLocator(builtins.object)\n",
      " |  KneeLocator(x: Iterable[float], y: Iterable[float], S: float = 1.0, curve: str = 'concave', direction: str = 'increasing', interp_method: str = 'interp1d', online: bool = False, polynomial_degree: int = 7)\n",
      " |  \n",
      " |  Once instantiated, this class attempts to find the point of maximum\n",
      " |  curvature on a line. The knee is accessible via the `.knee` attribute.\n",
      " |  \n",
      " |  :param x: x values, must be the same length as y.\n",
      " |  :type x: 1D array of shape (`number_of_y_values`,) or list\n",
      " |  :param y: y values, must be the same length as x.\n",
      " |  :type y: 1D array of shape (`number_of_y_values`,) or list\n",
      " |  :param S: Sensitivity, the number of minimum number of data points below the local distance maximum before calling a knee. The original paper suggests default of 1.0\n",
      " |  :type S: float\n",
      " |  :param curve: If 'concave', algorithm will detect knees. If 'convex', it\n",
      " |      will detect elbows.\n",
      " |  :type curve: str\n",
      " |  :param direction: one of {\"increasing\", \"decreasing\"}\n",
      " |  :type direction: str\n",
      " |  :param interp_method: one of {\"interp1d\", \"polynomial\"}\n",
      " |  :type interp_method: str\n",
      " |  :param online: kneed will correct old knee points if True, will return first knee if False\n",
      " |  :type online: bool\n",
      " |  :param polynomial_degree: The degree of the fitting polynomial. Only used when interp_method=\"polynomial\". This argument is passed to numpy polyfit `deg` parameter.\n",
      " |  :type polynomial_degree: int\n",
      " |  :ivar x: x values.\n",
      " |  :vartype x: array-like\n",
      " |  :ivar y: y values.\n",
      " |  :vartype y: array-like\n",
      " |  :ivar S: Sensitivity, original paper suggests default of 1.0\n",
      " |  :vartype S: integer\n",
      " |  :ivar curve: If 'concave', algorithm will detect knees. If 'convex', it\n",
      " |      will detect elbows.\n",
      " |  :vartype curve: str\n",
      " |  :ivar direction: one of {\"increasing\", \"decreasing\"}\n",
      " |  :vartype direction: str\n",
      " |  :ivar interp_method: one of {\"interp1d\", \"polynomial\"}\n",
      " |  :vartype interp_method: str\n",
      " |  :ivar online: kneed will correct old knee points if True, will return first knee if False\n",
      " |  :vartype online: str\n",
      " |  :ivar polynomial_degree: The degree of the fitting polynomial. Only used when interp_method=\"polynomial\". This argument is passed to numpy polyfit `deg` parameter.\n",
      " |  :vartype polynomial_degree: int\n",
      " |  :ivar N: The number of `x` values in the\n",
      " |  :vartype N: integer\n",
      " |  :ivar all_knees: A set containing all the x values of the identified knee points.\n",
      " |  :vartype all_knees: set\n",
      " |  :ivar all_norm_knees: A set containing all the normalized x values of the identified knee points.\n",
      " |  :vartype all_norm_knees: set\n",
      " |  :ivar all_knees_y: A list containing all the y values of the identified knee points.\n",
      " |  :vartype all_knees_y: list\n",
      " |  :ivar all_norm_knees_y: A list containing all the normalized y values of the identified knee points.\n",
      " |  :vartype all_norm_knees_y: list\n",
      " |  :ivar Ds_y: The y values from the fitted spline.\n",
      " |  :vartype Ds_y: numpy array\n",
      " |  :ivar x_normalized: The normalized x values.\n",
      " |  :vartype x_normalized: numpy array\n",
      " |  :ivar y_normalized: The normalized y values.\n",
      " |  :vartype y_normalized: numpy array\n",
      " |  :ivar x_difference: The x values of the difference curve.\n",
      " |  :vartype x_difference: numpy array\n",
      " |  :ivar y_difference: The y values of the difference curve.\n",
      " |  :vartype y_difference: numpy array\n",
      " |  :ivar maxima_indices: The indices of each of the maxima on the difference curve.\n",
      " |  :vartype maxima_indices: numpy array\n",
      " |  :ivar maxima_indices: The indices of each of the maxima on the difference curve.\n",
      " |  :vartype maxima_indices: numpy array\n",
      " |  :ivar x_difference_maxima: The x values from the difference curve where the local maxima are located.\n",
      " |  :vartype x_difference_maxima: numpy array\n",
      " |  :ivar y_difference_maxima: The y values from the difference curve where the local maxima are located.\n",
      " |  :vartype y_difference_maxima: numpy array\n",
      " |  :ivar minima_indices: The indices of each of the minima on the difference curve.\n",
      " |  :vartype minima_indices: numpy array\n",
      " |  :ivar minima_indices: The indices of each of the minima on the difference curve.\n",
      " |  :vartype maxima_indices: numpy array\n",
      " |  :ivar x_difference_minima: The x values from the difference curve where the local minima are located.\n",
      " |  :vartype x_difference_minima: numpy array\n",
      " |  :ivar y_difference_minima: The y values from the difference curve where the local minima are located.\n",
      " |  :vartype y_difference_minima: numpy array\n",
      " |  :ivar Tmx: The y values that correspond to the thresholds on the difference curve for determining the knee point.\n",
      " |  :vartype Tmx: numpy array\n",
      " |  :ivar knee: The x value of the knee point. None if no knee/elbow was detected.\n",
      " |  :vartype knee: float\n",
      " |  :ivar knee_y: The y value of the knee point. None if no knee/elbow was detected\n",
      " |  :vartype knee_y: float\n",
      " |  :ivar norm_knee: The normalized x value of the knee point. None if no knee/elbow was detected\n",
      " |  :vartype norm_knee: float\n",
      " |  :ivar norm_knee_y: The normalized y value of the knee point. None if no knee/elbow was detected\n",
      " |  :vartype norm_knee_y: float\n",
      " |  :ivar all_knees: The x values of all the identified knee points.\n",
      " |  :vartype all_knees: set\n",
      " |  :ivar all_knees_y: The y values of all the identified knee points.\n",
      " |  :vartype all_knees: set\n",
      " |  :ivar all_norm_knees: The normalized x values of all the identified knee points.\n",
      " |  :vartype all_norm_knees: set\n",
      " |  :ivar all_norm_knees_y: The normalized y values of all the identified knee points.\n",
      " |  :vartype all_norm_knees: set\n",
      " |  :ivar elbow: The x value of the elbow point (elbow and knee are interchangeable). None if no knee/elbow was detected\n",
      " |  :vartype elbow: float\n",
      " |  :ivar elbow_y: The y value of the knee point (elbow and knee are interchangeable). None if no knee/elbow was detected\n",
      " |  :vartype elbow_y: float\n",
      " |  :ivar norm_elbow: The normalized x value of the knee point (elbow and knee are interchangeable). None if no knee/elbow was detected\n",
      " |  :vartype norm_knee: float\n",
      " |  :ivar norm_elbow_y: The normalized y value of the knee point (elbow and knee are interchangeable). None if no knee/elbow was detected\n",
      " |  :vartype norm_elbow_y: float\n",
      " |  :ivar all_elbows: The x values of all the identified knee points (elbow and knee are interchangeable).\n",
      " |  :vartype all_elbows: set\n",
      " |  :ivar all_elbows_y: The y values of all the identified knee points (elbow and knee are interchangeable).\n",
      " |  :vartype all_elbows: set\n",
      " |  :ivar all_norm_elbows: The normalized x values of all the identified knee points (elbow and knee are interchangeable).\n",
      " |  :vartype all_norm_elbows: set\n",
      " |  :ivar all_norm_elbows_y: The normalized y values of all the identified knee points (elbow and knee are interchangeable).\n",
      " |  :vartype all_norm_elbows: set\n",
      " |  \n",
      " |  Methods defined here:\n",
      " |  \n",
      " |  __init__(self, x: Iterable[float], y: Iterable[float], S: float = 1.0, curve: str = 'concave', direction: str = 'increasing', interp_method: str = 'interp1d', online: bool = False, polynomial_degree: int = 7)\n",
      " |      Initialize self.  See help(type(self)) for accurate signature.\n",
      " |  \n",
      " |  find_knee(self)\n",
      " |      This function is called when KneeLocator is instantiated. It identifies the knee value and sets the instance attributes.\n",
      " |  \n",
      " |  plot_knee(self, figsize: Optional[Tuple[int, int]] = None, title: str = 'Knee Point', xlabel: Optional[str] = None, ylabel: Optional[str] = None)\n",
      " |      Plot the curve and the knee, if it exists\n",
      " |      \n",
      " |      :param figsize: Optional[Tuple[int, int]\n",
      " |          The figure size of the plot. Example (12, 8)\n",
      " |      :param title: str\n",
      " |          Title of the visualization, defaults to \"Knee Point\"\n",
      " |      :param xlabel: Optional[str]\n",
      " |          X-axis label\n",
      " |      :param ylabel: Optional[str]\n",
      " |          y-axis label\n",
      " |      :return: NoReturn\n",
      " |  \n",
      " |  plot_knee_normalized(self, figsize: Optional[Tuple[int, int]] = None, title: str = 'Normalized Knee Point', xlabel: Optional[str] = None, ylabel: Optional[str] = None)\n",
      " |      Plot the normalized curve, the difference curve (x_difference, y_normalized) and the knee, if it exists.\n",
      " |      \n",
      " |      :param figsize: Optional[Tuple[int, int]\n",
      " |          The figure size of the plot. Example (12, 8)\n",
      " |      :param title: str\n",
      " |          Title of the visualization, defaults to \"Normalized Knee Point\"\n",
      " |      :param xlabel: Optional[str]\n",
      " |          X-axis label\n",
      " |      :param ylabel: Optional[str]\n",
      " |          y-axis label\n",
      " |      :return: NoReturn\n",
      " |  \n",
      " |  ----------------------------------------------------------------------\n",
      " |  Static methods defined here:\n",
      " |  \n",
      " |  transform_y(y: Iterable[float], direction: str, curve: str) -> float\n",
      " |      transform y to concave, increasing based on given direction and curve\n",
      " |  \n",
      " |  ----------------------------------------------------------------------\n",
      " |  Readonly properties defined here:\n",
      " |  \n",
      " |  all_elbows\n",
      " |  \n",
      " |  all_elbows_y\n",
      " |  \n",
      " |  all_norm_elbows\n",
      " |  \n",
      " |  all_norm_elbows_y\n",
      " |  \n",
      " |  elbow\n",
      " |  \n",
      " |  elbow_y\n",
      " |  \n",
      " |  norm_elbow\n",
      " |  \n",
      " |  norm_elbow_y\n",
      " |  \n",
      " |  ----------------------------------------------------------------------\n",
      " |  Data descriptors defined here:\n",
      " |  \n",
      " |  __dict__\n",
      " |      dictionary for instance variables (if defined)\n",
      " |  \n",
      " |  __weakref__\n",
      " |      list of weak references to the object (if defined)\n",
      "\n"
     ]
    }
   ],
   "source": [
    "help(KneeLocator)"
   ]
  },
  {
   "cell_type": "code",
   "execution_count": 56,
   "id": "6bf439ae-de35-4e4d-9397-6dfae784841d",
   "metadata": {},
   "outputs": [],
   "source": [
    "kl = KneeLocator(range(1,16), sse, curve='convex', direction='decreasing')"
   ]
  },
  {
   "cell_type": "code",
   "execution_count": 57,
   "id": "085b7978-4f01-4103-9935-654b3b6785dc",
   "metadata": {},
   "outputs": [
    {
     "data": {
      "text/plain": [
       "5"
      ]
     },
     "execution_count": 57,
     "metadata": {},
     "output_type": "execute_result"
    }
   ],
   "source": [
    "kl.elbow"
   ]
  },
  {
   "cell_type": "markdown",
   "id": "57ca569c-6d11-49c6-ad0f-61abbe5f7de7",
   "metadata": {},
   "source": [
    "##### Silhoutte Score"
   ]
  },
  {
   "cell_type": "code",
   "execution_count": 59,
   "id": "a77f264e-f9af-4490-96c3-7ee339a601a6",
   "metadata": {},
   "outputs": [],
   "source": [
    "from sklearn.metrics import silhouette_score"
   ]
  },
  {
   "cell_type": "code",
   "execution_count": 61,
   "id": "c4c7e9a2-9bc8-4e42-a800-50a157dab320",
   "metadata": {},
   "outputs": [],
   "source": [
    "silh = []\n",
    "\n",
    "for i in range(2,16):\n",
    "    km = KMeans(random_state=0, n_clusters=i, n_init='auto')\n",
    "    labels = km.fit_predict(x)\n",
    "    score = silhouette_score(x, labels)\n",
    "    silh.append(score)"
   ]
  },
  {
   "cell_type": "code",
   "execution_count": 62,
   "id": "35407d2d-3b04-4b2c-a007-32dd15f7f9db",
   "metadata": {},
   "outputs": [
    {
     "data": {
      "text/plain": [
       "<BarContainer object of 14 artists>"
      ]
     },
     "execution_count": 62,
     "metadata": {},
     "output_type": "execute_result"
    },
    {
     "data": {
      "image/png": "[encoded data removed]",
      "text/plain": [
       "<Figure size 640x480 with 1 Axes>"
      ]
     },
     "metadata": {},
     "output_type": "display_data"
    }
   ],
   "source": [
    "plt.title('Silhouette Method')\n",
    "plt.xlabel('Value of K')\n",
    "plt.ylabel('Silhouette Score')\n",
    "plt.grid()\n",
    "plt.xticks(range(2,16))\n",
    "plt.bar(range(2,16), silh, color='brown')"
   ]
  },
  {
   "cell_type": "markdown",
   "id": "e2ac5b7e-8a98-4d57-b66a-c43211ee562f",
   "metadata": {},
   "source": [
    "##### Build the clusters"
   ]
  },
  {
   "cell_type": "code",
   "execution_count": 64,
   "id": "6bbe48ec-c9eb-4a0a-96db-b8d992c59b34",
   "metadata": {},
   "outputs": [],
   "source": [
    "km = KMeans(random_state=0, n_clusters=5, n_init='auto')"
   ]
  },
  {
   "cell_type": "code",
   "execution_count": 65,
   "id": "71533faf-c70b-4ac6-b520-d57efa4f47c4",
   "metadata": {},
   "outputs": [],
   "source": [
    "labels = km.fit_predict(x)"
   ]
  },
  {
   "cell_type": "code",
   "execution_count": 66,
   "id": "2ad3a681-5128-4911-a69d-482d7397212d",
   "metadata": {},
   "outputs": [
    {
     "data": {
      "text/plain": [
       "array([3, 4, 3, 4, 3, 4, 3, 4, 3, 4, 3, 4, 3, 4, 3, 4, 3, 4, 3, 4, 3, 4,\n",
       "       3, 4, 3, 4, 3, 4, 3, 4, 3, 4, 3, 4, 3, 4, 3, 4, 3, 4, 3, 4, 3, 0,\n",
       "       3, 4, 0, 0, 0, 0, 0, 0, 0, 0, 0, 0, 0, 0, 0, 0, 0, 0, 0, 0, 0, 0,\n",
       "       0, 0, 0, 0, 0, 0, 0, 0, 0, 0, 0, 0, 0, 0, 0, 0, 0, 0, 0, 0, 0, 0,\n",
       "       0, 0, 0, 0, 0, 0, 0, 0, 0, 0, 0, 0, 0, 0, 0, 0, 0, 0, 0, 0, 0, 0,\n",
       "       0, 0, 0, 0, 0, 0, 0, 0, 0, 0, 0, 0, 0, 1, 2, 1, 0, 1, 2, 1, 2, 1,\n",
       "       0, 1, 2, 1, 2, 1, 2, 1, 2, 1, 0, 1, 2, 1, 2, 1, 2, 1, 2, 1, 2, 1,\n",
       "       2, 1, 2, 1, 2, 1, 2, 1, 2, 1, 2, 1, 2, 1, 2, 1, 2, 1, 2, 1, 2, 1,\n",
       "       2, 1, 2, 1, 2, 1, 2, 1, 2, 1, 2, 1, 2, 1, 2, 1, 2, 1, 2, 1, 2, 1,\n",
       "       2, 1], dtype=int32)"
      ]
     },
     "execution_count": 66,
     "metadata": {},
     "output_type": "execute_result"
    }
   ],
   "source": [
    "labels"
   ]
  },
  {
   "cell_type": "code",
   "execution_count": 67,
   "id": "08f3ebb9-7b7b-42f9-901b-e0fd84634156",
   "metadata": {},
   "outputs": [
    {
     "data": {
      "text/plain": [
       "array([3, 4, 3, 4, 3, 4, 3, 4, 3, 4, 3, 4, 3, 4, 3, 4, 3, 4, 3, 4, 3, 4,\n",
       "       3, 4, 3, 4, 3, 4, 3, 4, 3, 4, 3, 4, 3, 4, 3, 4, 3, 4, 3, 4, 3, 0,\n",
       "       3, 4, 0, 0, 0, 0, 0, 0, 0, 0, 0, 0, 0, 0, 0, 0, 0, 0, 0, 0, 0, 0,\n",
       "       0, 0, 0, 0, 0, 0, 0, 0, 0, 0, 0, 0, 0, 0, 0, 0, 0, 0, 0, 0, 0, 0,\n",
       "       0, 0, 0, 0, 0, 0, 0, 0, 0, 0, 0, 0, 0, 0, 0, 0, 0, 0, 0, 0, 0, 0,\n",
       "       0, 0, 0, 0, 0, 0, 0, 0, 0, 0, 0, 0, 0, 1, 2, 1, 0, 1, 2, 1, 2, 1,\n",
       "       0, 1, 2, 1, 2, 1, 2, 1, 2, 1, 0, 1, 2, 1, 2, 1, 2, 1, 2, 1, 2, 1,\n",
       "       2, 1, 2, 1, 2, 1, 2, 1, 2, 1, 2, 1, 2, 1, 2, 1, 2, 1, 2, 1, 2, 1,\n",
       "       2, 1, 2, 1, 2, 1, 2, 1, 2, 1, 2, 1, 2, 1, 2, 1, 2, 1, 2, 1, 2, 1,\n",
       "       2, 1], dtype=int32)"
      ]
     },
     "execution_count": 67,
     "metadata": {},
     "output_type": "execute_result"
    }
   ],
   "source": [
    "km.labels_"
   ]
  },
  {
   "cell_type": "code",
   "execution_count": 68,
   "id": "fd8db250-7987-441f-ad62-0e89636cdafc",
   "metadata": {},
   "outputs": [
    {
     "data": {
      "text/plain": [
       "44448.4554479337"
      ]
     },
     "execution_count": 68,
     "metadata": {},
     "output_type": "execute_result"
    }
   ],
   "source": [
    "km.inertia_"
   ]
  },
  {
   "cell_type": "code",
   "execution_count": 69,
   "id": "20c35fe4-36ce-4fbf-abdc-6c6302a5da89",
   "metadata": {},
   "outputs": [],
   "source": [
    "cents = km.cluster_centers_"
   ]
  },
  {
   "cell_type": "code",
   "execution_count": 70,
   "id": "9522c2e6-5117-4e29-8c5f-b2579497534d",
   "metadata": {},
   "outputs": [
    {
     "data": {
      "text/plain": [
       "array([[55.2962963 , 49.51851852],\n",
       "       [86.53846154, 82.12820513],\n",
       "       [88.2       , 17.11428571],\n",
       "       [26.30434783, 20.91304348],\n",
       "       [25.72727273, 79.36363636]])"
      ]
     },
     "execution_count": 70,
     "metadata": {},
     "output_type": "execute_result"
    }
   ],
   "source": [
    "cents"
   ]
  },
  {
   "cell_type": "markdown",
   "id": "7c49cca6-7908-491f-b6f7-f0e1ac7db12c",
   "metadata": {},
   "source": [
    "##### Visualize the clusters"
   ]
  },
  {
   "cell_type": "code",
   "execution_count": 76,
   "id": "ad8ecc8f-c59f-4331-b242-b215d0bb20ae",
   "metadata": {},
   "outputs": [
    {
     "data": {
      "image/png": "[encoded data removed]",
      "text/plain": [
       "<Figure size 1600x900 with 2 Axes>"
      ]
     },
     "metadata": {},
     "output_type": "display_data"
    }
   ],
   "source": [
    "plt.figure(figsize=(16,9))\n",
    "plt.subplot(1,2,1)\n",
    "plt.title('Unclustered Data')\n",
    "plt.xlabel('Annual Income')\n",
    "plt.ylabel('Spending Score')\n",
    "plt.grid()\n",
    "plt.scatter(x.iloc[:,0], x.iloc[:,1])\n",
    "\n",
    "plt.subplot(1,2,2)\n",
    "plt.title('Clustered Data')\n",
    "plt.xlabel('Annual Income')\n",
    "plt.ylabel('Spending Score')\n",
    "plt.grid()\n",
    "plt.scatter(x.iloc[:,0], x.iloc[:,1], c = labels)\n",
    "plt.scatter(cents[:,0], cents[:,1], s = 200, color = 'r');"
   ]
  },
  {
   "cell_type": "markdown",
   "id": "ab6f6d60-66ff-424e-9101-05074bda59f2",
   "metadata": {},
   "source": [
    "##### Extract clusters"
   ]
  },
  {
   "cell_type": "code",
   "execution_count": 78,
   "id": "8443eaeb-bf00-4e24-aa37-32e78053d35b",
   "metadata": {},
   "outputs": [],
   "source": [
    "zero = df[labels==0]"
   ]
  },
  {
   "cell_type": "code",
   "execution_count": 79,
   "id": "ec75d2ad-54b7-4e6c-905c-572d3dec573e",
   "metadata": {},
   "outputs": [
    {
     "data": {
      "text/html": [
       "<div>\n",
       "<style scoped>\n",
       "    .dataframe tbody tr th:only-of-type {\n",
       "        vertical-align: middle;\n",
       "    }\n",
       "\n",
       "    .dataframe tbody tr th {\n",
       "        vertical-align: top;\n",
       "    }\n",
       "\n",
       "    .dataframe thead th {\n",
       "        text-align: right;\n",
       "    }\n",
       "</style>\n",
       "<table border=\"1\" class=\"dataframe\">\n",
       "  <thead>\n",
       "    <tr style=\"text-align: right;\">\n",
       "      <th></th>\n",
       "      <th>CustomerID</th>\n",
       "      <th>Genre</th>\n",
       "      <th>Age</th>\n",
       "      <th>Annual Income (k$)</th>\n",
       "      <th>Spending Score (1-100)</th>\n",
       "    </tr>\n",
       "  </thead>\n",
       "  <tbody>\n",
       "    <tr>\n",
       "      <th>43</th>\n",
       "      <td>44</td>\n",
       "      <td>Female</td>\n",
       "      <td>31</td>\n",
       "      <td>39</td>\n",
       "      <td>61</td>\n",
       "    </tr>\n",
       "    <tr>\n",
       "      <th>46</th>\n",
       "      <td>47</td>\n",
       "      <td>Female</td>\n",
       "      <td>50</td>\n",
       "      <td>40</td>\n",
       "      <td>55</td>\n",
       "    </tr>\n",
       "    <tr>\n",
       "      <th>47</th>\n",
       "      <td>48</td>\n",
       "      <td>Female</td>\n",
       "      <td>27</td>\n",
       "      <td>40</td>\n",
       "      <td>47</td>\n",
       "    </tr>\n",
       "    <tr>\n",
       "      <th>48</th>\n",
       "      <td>49</td>\n",
       "      <td>Female</td>\n",
       "      <td>29</td>\n",
       "      <td>40</td>\n",
       "      <td>42</td>\n",
       "    </tr>\n",
       "    <tr>\n",
       "      <th>49</th>\n",
       "      <td>50</td>\n",
       "      <td>Female</td>\n",
       "      <td>31</td>\n",
       "      <td>40</td>\n",
       "      <td>42</td>\n",
       "    </tr>\n",
       "    <tr>\n",
       "      <th>...</th>\n",
       "      <td>...</td>\n",
       "      <td>...</td>\n",
       "      <td>...</td>\n",
       "      <td>...</td>\n",
       "      <td>...</td>\n",
       "    </tr>\n",
       "    <tr>\n",
       "      <th>121</th>\n",
       "      <td>122</td>\n",
       "      <td>Female</td>\n",
       "      <td>38</td>\n",
       "      <td>67</td>\n",
       "      <td>40</td>\n",
       "    </tr>\n",
       "    <tr>\n",
       "      <th>122</th>\n",
       "      <td>123</td>\n",
       "      <td>Female</td>\n",
       "      <td>40</td>\n",
       "      <td>69</td>\n",
       "      <td>58</td>\n",
       "    </tr>\n",
       "    <tr>\n",
       "      <th>126</th>\n",
       "      <td>127</td>\n",
       "      <td>Male</td>\n",
       "      <td>43</td>\n",
       "      <td>71</td>\n",
       "      <td>35</td>\n",
       "    </tr>\n",
       "    <tr>\n",
       "      <th>132</th>\n",
       "      <td>133</td>\n",
       "      <td>Female</td>\n",
       "      <td>25</td>\n",
       "      <td>72</td>\n",
       "      <td>34</td>\n",
       "    </tr>\n",
       "    <tr>\n",
       "      <th>142</th>\n",
       "      <td>143</td>\n",
       "      <td>Female</td>\n",
       "      <td>28</td>\n",
       "      <td>76</td>\n",
       "      <td>40</td>\n",
       "    </tr>\n",
       "  </tbody>\n",
       "</table>\n",
       "<p>81 rows × 5 columns</p>\n",
       "</div>"
      ],
      "text/plain": [
       "     CustomerID   Genre  Age  Annual Income (k$)  Spending Score (1-100)\n",
       "43           44  Female   31                  39                      61\n",
       "46           47  Female   50                  40                      55\n",
       "47           48  Female   27                  40                      47\n",
       "48           49  Female   29                  40                      42\n",
       "49           50  Female   31                  40                      42\n",
       "..          ...     ...  ...                 ...                     ...\n",
       "121         122  Female   38                  67                      40\n",
       "122         123  Female   40                  69                      58\n",
       "126         127    Male   43                  71                      35\n",
       "132         133  Female   25                  72                      34\n",
       "142         143  Female   28                  76                      40\n",
       "\n",
       "[81 rows x 5 columns]"
      ]
     },
     "execution_count": 79,
     "metadata": {},
     "output_type": "execute_result"
    }
   ],
   "source": [
    "zero"
   ]
  },
  {
   "cell_type": "code",
   "execution_count": 82,
   "id": "dd4fa3ca-f534-4081-bc23-149ebeefb36b",
   "metadata": {},
   "outputs": [],
   "source": [
    "zero = df[labels==0]\n",
    "one = df[labels==1]\n",
    "two = df[labels==2]\n",
    "three = df[labels==3]\n",
    "four = df[labels==4]"
   ]
  },
  {
   "cell_type": "code",
   "execution_count": 83,
   "id": "e5f266ab-81ec-4989-a6a0-53b5340b9adb",
   "metadata": {},
   "outputs": [
    {
     "data": {
      "text/plain": [
       "((81, 5), (39, 5), (35, 5), (23, 5), (22, 5))"
      ]
     },
     "execution_count": 83,
     "metadata": {},
     "output_type": "execute_result"
    }
   ],
   "source": [
    "zero.shape, one.shape, two.shape, three.shape, four.shape"
   ]
  },
  {
   "cell_type": "markdown",
   "id": "51595af7-0de1-44d0-8650-b597cfd6f797",
   "metadata": {},
   "source": [
    "##### Classify / Cluster new customer"
   ]
  },
  {
   "cell_type": "code",
   "execution_count": 85,
   "id": "d0466713-0754-4273-8d36-d98ec6bdaabb",
   "metadata": {},
   "outputs": [],
   "source": [
    "new = pd.DataFrame(data=[[45,12],[98,67],[34,10],[78,65],[55,56]],\n",
    "                  columns=x.columns)"
   ]
  },
  {
   "cell_type": "code",
   "execution_count": 86,
   "id": "02b7bf83-87ea-477d-b7cb-b3370b71bf68",
   "metadata": {},
   "outputs": [
    {
     "data": {
      "text/html": [
       "<div>\n",
       "<style scoped>\n",
       "    .dataframe tbody tr th:only-of-type {\n",
       "        vertical-align: middle;\n",
       "    }\n",
       "\n",
       "    .dataframe tbody tr th {\n",
       "        vertical-align: top;\n",
       "    }\n",
       "\n",
       "    .dataframe thead th {\n",
       "        text-align: right;\n",
       "    }\n",
       "</style>\n",
       "<table border=\"1\" class=\"dataframe\">\n",
       "  <thead>\n",
       "    <tr style=\"text-align: right;\">\n",
       "      <th></th>\n",
       "      <th>Annual Income (k$)</th>\n",
       "      <th>Spending Score (1-100)</th>\n",
       "    </tr>\n",
       "  </thead>\n",
       "  <tbody>\n",
       "    <tr>\n",
       "      <th>0</th>\n",
       "      <td>45</td>\n",
       "      <td>12</td>\n",
       "    </tr>\n",
       "    <tr>\n",
       "      <th>1</th>\n",
       "      <td>98</td>\n",
       "      <td>67</td>\n",
       "    </tr>\n",
       "    <tr>\n",
       "      <th>2</th>\n",
       "      <td>34</td>\n",
       "      <td>10</td>\n",
       "    </tr>\n",
       "    <tr>\n",
       "      <th>3</th>\n",
       "      <td>78</td>\n",
       "      <td>65</td>\n",
       "    </tr>\n",
       "    <tr>\n",
       "      <th>4</th>\n",
       "      <td>55</td>\n",
       "      <td>56</td>\n",
       "    </tr>\n",
       "  </tbody>\n",
       "</table>\n",
       "</div>"
      ],
      "text/plain": [
       "   Annual Income (k$)  Spending Score (1-100)\n",
       "0                  45                      12\n",
       "1                  98                      67\n",
       "2                  34                      10\n",
       "3                  78                      65\n",
       "4                  55                      56"
      ]
     },
     "execution_count": 86,
     "metadata": {},
     "output_type": "execute_result"
    }
   ],
   "source": [
    "new"
   ]
  },
  {
   "cell_type": "code",
   "execution_count": 87,
   "id": "6cba2bcb-f3ca-4db0-9f44-adc9bf5d0708",
   "metadata": {},
   "outputs": [
    {
     "data": {
      "text/plain": [
       "array([3, 1, 3, 1, 0], dtype=int32)"
      ]
     },
     "execution_count": 87,
     "metadata": {},
     "output_type": "execute_result"
    }
   ],
   "source": [
    "km.predict(new)"
   ]
  },
  {
   "cell_type": "markdown",
   "id": "fb34d462-4a7c-4405-8624-6c5d33c908ee",
   "metadata": {},
   "source": [
    "##### Export the clusters"
   ]
  },
  {
   "cell_type": "code",
   "execution_count": 90,
   "id": "7864fcea-4701-4803-b40e-a6aa4e5d21af",
   "metadata": {},
   "outputs": [],
   "source": [
    "zero.to_csv('datasets/customers0.csv', index = False)"
   ]
  },
  {
   "cell_type": "code",
   "execution_count": null,
   "id": "236e7b10-aa70-4f5a-8ae5-89b86a10c44c",
   "metadata": {},
   "outputs": [],
   "source": []
  }
 ],
 "metadata": {
  "kernelspec": {
   "display_name": "Python 3 (ipykernel)",
   "language": "python",
   "name": "python3"
  },
  "language_info": {
   "codemirror_mode": {
    "name": "ipython",
    "version": 3
   },
   "file_extension": ".py",
   "mimetype": "text/x-python",
   "name": "python",
   "nbconvert_exporter": "python",
   "pygments_lexer": "ipython3",
   "version": "3.10.12"
  }
 },
 "nbformat": 4,
 "nbformat_minor": 5
}
