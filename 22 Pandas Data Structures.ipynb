{
 "cells": [
  {
   "cell_type": "code",
   "execution_count": 1,
   "id": "1cea35ab-ba6b-4e14-a63a-6648225965bf",
   "metadata": {},
   "outputs": [],
   "source": [
    "import pandas as pd"
   ]
  },
  {
   "cell_type": "markdown",
   "id": "d6e05f26-3bd2-4285-b44e-1681ac5a9fa0",
   "metadata": {},
   "source": [
    "##### Series"
   ]
  },
  {
   "cell_type": "code",
   "execution_count": 3,
   "id": "797b4fd8-a1bc-41f0-9a96-706d467743ba",
   "metadata": {},
   "outputs": [],
   "source": [
    "s = pd.Series([45,22,12,46,76,28,75,19,39])"
   ]
  },
  {
   "cell_type": "code",
   "execution_count": 4,
   "id": "b87fecf6-b1cd-4576-82c3-07073a097680",
   "metadata": {},
   "outputs": [
    {
     "data": {
      "text/plain": [
       "0    45\n",
       "1    22\n",
       "2    12\n",
       "3    46\n",
       "4    76\n",
       "5    28\n",
       "6    75\n",
       "7    19\n",
       "8    39\n",
       "dtype: int64"
      ]
     },
     "execution_count": 4,
     "metadata": {},
     "output_type": "execute_result"
    }
   ],
   "source": [
    "s"
   ]
  },
  {
   "cell_type": "code",
   "execution_count": 5,
   "id": "d9b8b992-f7b1-4095-95b3-4c8dc4d1f7b5",
   "metadata": {},
   "outputs": [],
   "source": [
    "s = pd.Series([45,22,12,46,76, 28.56, 75,19,39])"
   ]
  },
  {
   "cell_type": "code",
   "execution_count": 6,
   "id": "ec30add8-1aa3-4ad5-aef5-a4caa185cada",
   "metadata": {},
   "outputs": [
    {
     "data": {
      "text/plain": [
       "0    45.00\n",
       "1    22.00\n",
       "2    12.00\n",
       "3    46.00\n",
       "4    76.00\n",
       "5    28.56\n",
       "6    75.00\n",
       "7    19.00\n",
       "8    39.00\n",
       "dtype: float64"
      ]
     },
     "execution_count": 6,
     "metadata": {},
     "output_type": "execute_result"
    }
   ],
   "source": [
    "s"
   ]
  },
  {
   "cell_type": "code",
   "execution_count": 7,
   "id": "c36c7611-b337-41ce-848e-5eaa6b677cb6",
   "metadata": {},
   "outputs": [
    {
     "name": "stderr",
     "output_type": "stream",
     "text": [
      "/tmp/ipykernel_12726/230815075.py:1: FutureWarning: Setting an item of incompatible dtype is deprecated and will raise in a future error of pandas. Value 'Pune' has dtype incompatible with float64, please explicitly cast to a compatible dtype first.\n",
      "  s[2] = 'Pune'\n"
     ]
    }
   ],
   "source": [
    "s[2] = 'Pune'"
   ]
  },
  {
   "cell_type": "code",
   "execution_count": 8,
   "id": "4c0cbd09-a337-4222-ad63-0a08272e9a08",
   "metadata": {},
   "outputs": [
    {
     "data": {
      "text/plain": [
       "0     45.0\n",
       "1     22.0\n",
       "2     Pune\n",
       "3     46.0\n",
       "4     76.0\n",
       "5    28.56\n",
       "6     75.0\n",
       "7     19.0\n",
       "8     39.0\n",
       "dtype: object"
      ]
     },
     "execution_count": 8,
     "metadata": {},
     "output_type": "execute_result"
    }
   ],
   "source": [
    "s"
   ]
  },
  {
   "cell_type": "code",
   "execution_count": 9,
   "id": "3738ede0-e3d9-428b-bf49-e0ba64288556",
   "metadata": {},
   "outputs": [
    {
     "data": {
      "text/plain": [
       "45.0"
      ]
     },
     "execution_count": 9,
     "metadata": {},
     "output_type": "execute_result"
    }
   ],
   "source": [
    "s[0]"
   ]
  },
  {
   "cell_type": "code",
   "execution_count": 10,
   "id": "6172d778-401b-42eb-8c3d-1fd1f5518474",
   "metadata": {},
   "outputs": [],
   "source": [
    "s = pd.Series([45,22,12,46,76,28,75,19,39])"
   ]
  },
  {
   "cell_type": "code",
   "execution_count": 11,
   "id": "4ebf7411-cadf-4667-b008-508a08c8d74b",
   "metadata": {},
   "outputs": [
    {
     "data": {
      "text/plain": [
       "dtype('int64')"
      ]
     },
     "execution_count": 11,
     "metadata": {},
     "output_type": "execute_result"
    }
   ],
   "source": [
    "s.dtype"
   ]
  },
  {
   "cell_type": "code",
   "execution_count": 12,
   "id": "6e535445-6dbe-4617-bd68-9fafa8f7db0b",
   "metadata": {},
   "outputs": [
    {
     "data": {
      "text/plain": [
       "9"
      ]
     },
     "execution_count": 12,
     "metadata": {},
     "output_type": "execute_result"
    }
   ],
   "source": [
    "s.size"
   ]
  },
  {
   "cell_type": "code",
   "execution_count": 14,
   "id": "f059e53a-123e-4e46-a83c-c6577d6391d8",
   "metadata": {},
   "outputs": [
    {
     "data": {
      "text/plain": [
       "1"
      ]
     },
     "execution_count": 14,
     "metadata": {},
     "output_type": "execute_result"
    }
   ],
   "source": [
    "s.ndim"
   ]
  },
  {
   "cell_type": "code",
   "execution_count": 15,
   "id": "7acfac58-5f37-4423-b0cf-3a50cdd35d25",
   "metadata": {},
   "outputs": [
    {
     "data": {
      "text/plain": [
       "array([45, 22, 12, 46, 76, 28, 75, 19, 39])"
      ]
     },
     "execution_count": 15,
     "metadata": {},
     "output_type": "execute_result"
    }
   ],
   "source": [
    "s.values"
   ]
  },
  {
   "cell_type": "code",
   "execution_count": 16,
   "id": "c8ba1a63-3299-4df5-a9d2-63be51423cea",
   "metadata": {},
   "outputs": [
    {
     "data": {
      "text/plain": [
       "(12, 76, 23.118054512532936, 40.22222222222222, 362)"
      ]
     },
     "execution_count": 16,
     "metadata": {},
     "output_type": "execute_result"
    }
   ],
   "source": [
    "s.min(), s.max(), s.std(), s.mean(), s.sum()"
   ]
  },
  {
   "cell_type": "code",
   "execution_count": 17,
   "id": "4774a3e6-72fb-4bee-b614-6113caaca221",
   "metadata": {},
   "outputs": [],
   "source": [
    "s1 = pd.Series([76,56,12,38,78,89], index = range(101,107))"
   ]
  },
  {
   "cell_type": "code",
   "execution_count": 18,
   "id": "cca8dc04-ad82-4f94-ac6a-b574b16dbf89",
   "metadata": {},
   "outputs": [
    {
     "data": {
      "text/plain": [
       "101    76\n",
       "102    56\n",
       "103    12\n",
       "104    38\n",
       "105    78\n",
       "106    89\n",
       "dtype: int64"
      ]
     },
     "execution_count": 18,
     "metadata": {},
     "output_type": "execute_result"
    }
   ],
   "source": [
    "s1"
   ]
  },
  {
   "cell_type": "code",
   "execution_count": 19,
   "id": "a66f3be4-1840-4a7e-92d4-6598873b4f49",
   "metadata": {},
   "outputs": [
    {
     "data": {
      "text/plain": [
       "38"
      ]
     },
     "execution_count": 19,
     "metadata": {},
     "output_type": "execute_result"
    }
   ],
   "source": [
    "s1[104]"
   ]
  },
  {
   "cell_type": "markdown",
   "id": "cf83b828-4b96-4a4b-b67e-2cc69130af30",
   "metadata": {},
   "source": [
    "##### DataFrame"
   ]
  },
  {
   "cell_type": "code",
   "execution_count": 23,
   "id": "17a8eccd-c863-4d6d-955b-ed6346145b51",
   "metadata": {},
   "outputs": [],
   "source": [
    "r = list(range(1,6))\n",
    "n = ['Ajay','Vijaya','Ramesh','Priya','Raj']\n",
    "m = pd.Series([56.78, 89.34, 76.45, 66.23, 69.04])"
   ]
  },
  {
   "cell_type": "code",
   "execution_count": 24,
   "id": "08d83928-b402-43a1-b49c-a2b80909e364",
   "metadata": {},
   "outputs": [],
   "source": [
    "df = pd.DataFrame({\n",
    "    'roll': r,\n",
    "    'name': n,\n",
    "    'marks': m\n",
    "})"
   ]
  },
  {
   "cell_type": "code",
   "execution_count": 25,
   "id": "5f76269a-c6e8-48f5-9298-87a55b91bc2f",
   "metadata": {},
   "outputs": [
    {
     "data": {
      "text/html": [
       "<div>\n",
       "<style scoped>\n",
       "    .dataframe tbody tr th:only-of-type {\n",
       "        vertical-align: middle;\n",
       "    }\n",
       "\n",
       "    .dataframe tbody tr th {\n",
       "        vertical-align: top;\n",
       "    }\n",
       "\n",
       "    .dataframe thead th {\n",
       "        text-align: right;\n",
       "    }\n",
       "</style>\n",
       "<table border=\"1\" class=\"dataframe\">\n",
       "  <thead>\n",
       "    <tr style=\"text-align: right;\">\n",
       "      <th></th>\n",
       "      <th>roll</th>\n",
       "      <th>name</th>\n",
       "      <th>marks</th>\n",
       "    </tr>\n",
       "  </thead>\n",
       "  <tbody>\n",
       "    <tr>\n",
       "      <th>0</th>\n",
       "      <td>1</td>\n",
       "      <td>Ajay</td>\n",
       "      <td>56.78</td>\n",
       "    </tr>\n",
       "    <tr>\n",
       "      <th>1</th>\n",
       "      <td>2</td>\n",
       "      <td>Vijaya</td>\n",
       "      <td>89.34</td>\n",
       "    </tr>\n",
       "    <tr>\n",
       "      <th>2</th>\n",
       "      <td>3</td>\n",
       "      <td>Ramesh</td>\n",
       "      <td>76.45</td>\n",
       "    </tr>\n",
       "    <tr>\n",
       "      <th>3</th>\n",
       "      <td>4</td>\n",
       "      <td>Priya</td>\n",
       "      <td>66.23</td>\n",
       "    </tr>\n",
       "    <tr>\n",
       "      <th>4</th>\n",
       "      <td>5</td>\n",
       "      <td>Raj</td>\n",
       "      <td>69.04</td>\n",
       "    </tr>\n",
       "  </tbody>\n",
       "</table>\n",
       "</div>"
      ],
      "text/plain": [
       "   roll    name  marks\n",
       "0     1    Ajay  56.78\n",
       "1     2  Vijaya  89.34\n",
       "2     3  Ramesh  76.45\n",
       "3     4   Priya  66.23\n",
       "4     5     Raj  69.04"
      ]
     },
     "execution_count": 25,
     "metadata": {},
     "output_type": "execute_result"
    }
   ],
   "source": [
    "df"
   ]
  },
  {
   "cell_type": "code",
   "execution_count": 26,
   "id": "ac526e25-9ff5-41c9-9f0d-03a6e54b220d",
   "metadata": {},
   "outputs": [
    {
     "data": {
      "text/plain": [
       "pandas.core.frame.DataFrame"
      ]
     },
     "execution_count": 26,
     "metadata": {},
     "output_type": "execute_result"
    }
   ],
   "source": [
    "type(df)"
   ]
  },
  {
   "cell_type": "code",
   "execution_count": 27,
   "id": "860971f6-04dc-48f2-86e7-2c54ac156743",
   "metadata": {},
   "outputs": [
    {
     "data": {
      "text/plain": [
       "pandas.core.series.Series"
      ]
     },
     "execution_count": 27,
     "metadata": {},
     "output_type": "execute_result"
    }
   ],
   "source": [
    "type(s)"
   ]
  },
  {
   "cell_type": "code",
   "execution_count": 28,
   "id": "888d06c8-bba0-4548-b292-feb5e7db16e6",
   "metadata": {},
   "outputs": [
    {
     "data": {
      "text/plain": [
       "roll       int64\n",
       "name      object\n",
       "marks    float64\n",
       "dtype: object"
      ]
     },
     "execution_count": 28,
     "metadata": {},
     "output_type": "execute_result"
    }
   ],
   "source": [
    "df.dtypes"
   ]
  },
  {
   "cell_type": "code",
   "execution_count": 29,
   "id": "0e0a0098-289c-40c9-9a76-00dfe349328e",
   "metadata": {},
   "outputs": [
    {
     "data": {
      "text/plain": [
       "15"
      ]
     },
     "execution_count": 29,
     "metadata": {},
     "output_type": "execute_result"
    }
   ],
   "source": [
    "df.size"
   ]
  },
  {
   "cell_type": "code",
   "execution_count": 30,
   "id": "7c7c028c-c1fa-4422-9d43-6504eaf88e96",
   "metadata": {},
   "outputs": [
    {
     "data": {
      "text/plain": [
       "(5, 3)"
      ]
     },
     "execution_count": 30,
     "metadata": {},
     "output_type": "execute_result"
    }
   ],
   "source": [
    "df.shape"
   ]
  },
  {
   "cell_type": "code",
   "execution_count": null,
   "id": "63c4048e-ce57-42b0-a07b-ffa755eac748",
   "metadata": {},
   "outputs": [],
   "source": []
  }
 ],
 "metadata": {
  "kernelspec": {
   "display_name": "Python 3 (ipykernel)",
   "language": "python",
   "name": "python3"
  },
  "language_info": {
   "codemirror_mode": {
    "name": "ipython",
    "version": 3
   },
   "file_extension": ".py",
   "mimetype": "text/x-python",
   "name": "python",
   "nbconvert_exporter": "python",
   "pygments_lexer": "ipython3",
   "version": "3.10.12"
  }
 },
 "nbformat": 4,
 "nbformat_minor": 5
}
